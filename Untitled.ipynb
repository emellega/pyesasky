{
 "cells": [
  {
   "cell_type": "code",
   "execution_count": 1,
   "id": "617933b9-04a3-4d97-912d-efcf6d6c5d64",
   "metadata": {},
   "outputs": [
    {
     "data": {
      "application/vnd.jupyter.widget-view+json": {
       "model_id": "7527fcc130184b20a4c7ece1e3b791d4",
       "version_major": 2,
       "version_minor": 0
      },
      "text/plain": [
       "Accordion(children=(Output(),), titles=('Logs',))"
      ]
     },
     "metadata": {},
     "output_type": "display_data"
    },
    {
     "data": {
      "application/vnd.jupyter.widget-view+json": {
       "model_id": "2d788a65847e42d49214fab3c0d1c9b7",
       "version_major": 2,
       "version_minor": 0
      },
      "text/plain": [
       "Box(children=(VBox(children=(FileChooser(path='/src/git/pyesasky2', filename='', title='Select directory for d…"
      ]
     },
     "metadata": {},
     "output_type": "display_data"
    },
    {
     "data": {
      "application/vnd.jupyter.widget-view+json": {
       "model_id": "a027fcb933bb4b2c9e569cd4c56c5346",
       "version_major": 2,
       "version_minor": 0
      },
      "text/plain": [
       "Output(outputs=({'output_type': 'display_data', 'data': {'text/plain': '<IPython.core.display.HTML object>', '…"
      ]
     },
     "metadata": {},
     "output_type": "display_data"
    },
    {
     "data": {
      "application/vnd.jupyter.widget-view+json": {
       "model_id": "a413a348eee04db29884140dc30a1f55",
       "version_major": 2,
       "version_minor": 0
      },
      "text/plain": [
       "ESASkyWidget(layout=Layout(align_self='stretch', height='400px'))"
      ]
     },
     "execution_count": 1,
     "metadata": {},
     "output_type": "execute_result"
    }
   ],
   "source": [
    "from pyesasky import ESASkyWidget\n",
    "esasky = ESASkyWidget(enable_logs=True)\n",
    "esasky"
   ]
  },
  {
   "cell_type": "code",
   "execution_count": 2,
   "id": "7453f235-0d93-4e7f-b0c4-39812ade3c8c",
   "metadata": {},
   "outputs": [
    {
     "data": {
      "text/html": [
       "\n",
       "        <div style=\"background-color: #fff3cd;\n",
       "                    color: #856404;\n",
       "                    border: 1px solid #ffeeba;\n",
       "                    border-radius: 5px;\n",
       "                    padding: 12px;\n",
       "                    margin: 10px 0;\n",
       "                    font-size: 10px;\n",
       "                    font-family: Arial, sans-serif;\">\n",
       "            <strong>Warning:</strong> 'getCenter' is deprecated.\n",
       "            Please use 'get_center' instead.\n",
       "        </div>\n",
       "        "
      ],
      "text/plain": [
       "<IPython.core.display.HTML object>"
      ]
     },
     "metadata": {},
     "output_type": "display_data"
    },
    {
     "data": {
      "text/plain": [
       "'Communication could not be established'"
      ]
     },
     "execution_count": 2,
     "metadata": {},
     "output_type": "execute_result"
    }
   ],
   "source": [
    "esasky.getCenter()"
   ]
  },
  {
   "cell_type": "code",
   "execution_count": null,
   "id": "7fa70126-0a99-473d-91d0-439ca6e91b0a",
   "metadata": {},
   "outputs": [],
   "source": []
  },
  {
   "cell_type": "code",
   "execution_count": 3,
   "id": "b0f91075-2c71-4e40-bda2-6be1214dc02a",
   "metadata": {},
   "outputs": [
    {
     "data": {
      "text/html": [
       "<div>\n",
       "<style scoped>\n",
       "    .dataframe tbody tr th:only-of-type {\n",
       "        vertical-align: middle;\n",
       "    }\n",
       "\n",
       "    .dataframe tbody tr th {\n",
       "        vertical-align: top;\n",
       "    }\n",
       "\n",
       "    .dataframe thead th {\n",
       "        text-align: right;\n",
       "    }\n",
       "</style>\n",
       "<table border=\"1\" class=\"dataframe\">\n",
       "  <thead>\n",
       "    <tr style=\"text-align: right;\">\n",
       "      <th></th>\n",
       "      <th>ID</th>\n",
       "      <th>obs_title</th>\n",
       "      <th>moc_order</th>\n",
       "      <th>moc_sky_fraction</th>\n",
       "      <th>em_min</th>\n",
       "      <th>em_max</th>\n",
       "      <th>hips_service_url</th>\n",
       "    </tr>\n",
       "  </thead>\n",
       "  <tbody>\n",
       "    <tr>\n",
       "      <th>0</th>\n",
       "      <td>CDS/P/2MASS/H</td>\n",
       "      <td>2MASS H (1.66um)</td>\n",
       "      <td>9.0</td>\n",
       "      <td>1.00000</td>\n",
       "      <td>1.525000e-06</td>\n",
       "      <td>1.798000e-06</td>\n",
       "      <td>https://alasky.cds.unistra.fr/2MASS/H</td>\n",
       "    </tr>\n",
       "    <tr>\n",
       "      <th>1</th>\n",
       "      <td>CDS/P/2MASS/J</td>\n",
       "      <td>2MASS J (1.23um)</td>\n",
       "      <td>9.0</td>\n",
       "      <td>1.00000</td>\n",
       "      <td>1.147000e-06</td>\n",
       "      <td>1.323000e-06</td>\n",
       "      <td>https://alasky.cds.unistra.fr/2MASS/J</td>\n",
       "    </tr>\n",
       "    <tr>\n",
       "      <th>2</th>\n",
       "      <td>CDS/P/2MASS/K</td>\n",
       "      <td>2MASS K (2.16um)</td>\n",
       "      <td>9.0</td>\n",
       "      <td>1.00000</td>\n",
       "      <td>2.015000e-06</td>\n",
       "      <td>2.303000e-06</td>\n",
       "      <td>https://alasky.cds.unistra.fr/2MASS/K</td>\n",
       "    </tr>\n",
       "    <tr>\n",
       "      <th>3</th>\n",
       "      <td>CDS/P/2MASS/color</td>\n",
       "      <td>2MASS color J (1.23um), H (1.66um), K (2.16um)</td>\n",
       "      <td>9.0</td>\n",
       "      <td>1.00000</td>\n",
       "      <td>1.147000e-06</td>\n",
       "      <td>2.303000e-06</td>\n",
       "      <td>https://alasky.cds.unistra.fr/2MASS/Color</td>\n",
       "    </tr>\n",
       "    <tr>\n",
       "      <th>4</th>\n",
       "      <td>CDS/P/2MASS6X/H</td>\n",
       "      <td>2MASS6X H (1.66um)</td>\n",
       "      <td>9.0</td>\n",
       "      <td>0.01316</td>\n",
       "      <td>1.525000e-06</td>\n",
       "      <td>1.798000e-06</td>\n",
       "      <td>https://alasky.cds.unistra.fr/2MASS6X/2MASS6X_H</td>\n",
       "    </tr>\n",
       "    <tr>\n",
       "      <th>...</th>\n",
       "      <td>...</td>\n",
       "      <td>...</td>\n",
       "      <td>...</td>\n",
       "      <td>...</td>\n",
       "      <td>...</td>\n",
       "      <td>...</td>\n",
       "      <td>...</td>\n",
       "    </tr>\n",
       "    <tr>\n",
       "      <th>1250</th>\n",
       "      <td>wfau.roe.ac.uk/P/UKIDSS/LAS/Y</td>\n",
       "      <td>LASY</td>\n",
       "      <td>15.0</td>\n",
       "      <td>0.08876</td>\n",
       "      <td>9.700000e-07</td>\n",
       "      <td>1.070000e-06</td>\n",
       "      <td>http://surveys.roe.ac.uk/hips71/LAS/LAS_Y_PIX</td>\n",
       "    </tr>\n",
       "    <tr>\n",
       "      <th>1251</th>\n",
       "      <td>xcatdb/P/XMM/PN/color</td>\n",
       "      <td>False color X-ray images (Red=0.5-1 Green=1-2 ...</td>\n",
       "      <td>7.0</td>\n",
       "      <td>0.09202</td>\n",
       "      <td>2.755200e-10</td>\n",
       "      <td>6.199200e-10</td>\n",
       "      <td>https://xcatdb.unistra.fr/PNColor</td>\n",
       "    </tr>\n",
       "    <tr>\n",
       "      <th>1252</th>\n",
       "      <td>xcatdb/P/XMM/PN/eb2</td>\n",
       "      <td>X-ray images on band 0.5-1Kev</td>\n",
       "      <td>7.0</td>\n",
       "      <td>0.09202</td>\n",
       "      <td>2.755200e-10</td>\n",
       "      <td>6.199200e-10</td>\n",
       "      <td>https://xcatdb.unistra.fr/PNRed</td>\n",
       "    </tr>\n",
       "    <tr>\n",
       "      <th>1253</th>\n",
       "      <td>xcatdb/P/XMM/PN/eb3</td>\n",
       "      <td>X-ray images on band 1-2Kev</td>\n",
       "      <td>7.0</td>\n",
       "      <td>0.09202</td>\n",
       "      <td>2.755200e-10</td>\n",
       "      <td>6.199200e-10</td>\n",
       "      <td>https://xcatdb.unistra.fr/PNGreen</td>\n",
       "    </tr>\n",
       "    <tr>\n",
       "      <th>1254</th>\n",
       "      <td>xcatdb/P/XMM/PN/eb4</td>\n",
       "      <td>X-ray images on band 2-4.5Kev</td>\n",
       "      <td>7.0</td>\n",
       "      <td>0.09202</td>\n",
       "      <td>2.755200e-10</td>\n",
       "      <td>6.199200e-10</td>\n",
       "      <td>https://xcatdb.unistra.fr/PNBlue</td>\n",
       "    </tr>\n",
       "  </tbody>\n",
       "</table>\n",
       "<p>1255 rows × 7 columns</p>\n",
       "</div>"
      ],
      "text/plain": [
       "                                 ID  \\\n",
       "0                     CDS/P/2MASS/H   \n",
       "1                     CDS/P/2MASS/J   \n",
       "2                     CDS/P/2MASS/K   \n",
       "3                 CDS/P/2MASS/color   \n",
       "4                   CDS/P/2MASS6X/H   \n",
       "...                             ...   \n",
       "1250  wfau.roe.ac.uk/P/UKIDSS/LAS/Y   \n",
       "1251          xcatdb/P/XMM/PN/color   \n",
       "1252            xcatdb/P/XMM/PN/eb2   \n",
       "1253            xcatdb/P/XMM/PN/eb3   \n",
       "1254            xcatdb/P/XMM/PN/eb4   \n",
       "\n",
       "                                              obs_title  moc_order  \\\n",
       "0                                      2MASS H (1.66um)        9.0   \n",
       "1                                      2MASS J (1.23um)        9.0   \n",
       "2                                      2MASS K (2.16um)        9.0   \n",
       "3        2MASS color J (1.23um), H (1.66um), K (2.16um)        9.0   \n",
       "4                                    2MASS6X H (1.66um)        9.0   \n",
       "...                                                 ...        ...   \n",
       "1250                                               LASY       15.0   \n",
       "1251  False color X-ray images (Red=0.5-1 Green=1-2 ...        7.0   \n",
       "1252                      X-ray images on band 0.5-1Kev        7.0   \n",
       "1253                        X-ray images on band 1-2Kev        7.0   \n",
       "1254                      X-ray images on band 2-4.5Kev        7.0   \n",
       "\n",
       "      moc_sky_fraction        em_min        em_max  \\\n",
       "0              1.00000  1.525000e-06  1.798000e-06   \n",
       "1              1.00000  1.147000e-06  1.323000e-06   \n",
       "2              1.00000  2.015000e-06  2.303000e-06   \n",
       "3              1.00000  1.147000e-06  2.303000e-06   \n",
       "4              0.01316  1.525000e-06  1.798000e-06   \n",
       "...                ...           ...           ...   \n",
       "1250           0.08876  9.700000e-07  1.070000e-06   \n",
       "1251           0.09202  2.755200e-10  6.199200e-10   \n",
       "1252           0.09202  2.755200e-10  6.199200e-10   \n",
       "1253           0.09202  2.755200e-10  6.199200e-10   \n",
       "1254           0.09202  2.755200e-10  6.199200e-10   \n",
       "\n",
       "                                     hips_service_url  \n",
       "0               https://alasky.cds.unistra.fr/2MASS/H  \n",
       "1               https://alasky.cds.unistra.fr/2MASS/J  \n",
       "2               https://alasky.cds.unistra.fr/2MASS/K  \n",
       "3           https://alasky.cds.unistra.fr/2MASS/Color  \n",
       "4     https://alasky.cds.unistra.fr/2MASS6X/2MASS6X_H  \n",
       "...                                               ...  \n",
       "1250    http://surveys.roe.ac.uk/hips71/LAS/LAS_Y_PIX  \n",
       "1251                https://xcatdb.unistra.fr/PNColor  \n",
       "1252                  https://xcatdb.unistra.fr/PNRed  \n",
       "1253                https://xcatdb.unistra.fr/PNGreen  \n",
       "1254                 https://xcatdb.unistra.fr/PNBlue  \n",
       "\n",
       "[1255 rows x 7 columns]"
      ]
     },
     "execution_count": 3,
     "metadata": {},
     "output_type": "execute_result"
    }
   ],
   "source": [
    "import pandas as pd\n",
    "esasky.browse_hips()"
   ]
  },
  {
   "cell_type": "code",
   "execution_count": null,
   "id": "fedbfe9f-04ac-4083-8ce4-bc479e2f89bd",
   "metadata": {},
   "outputs": [],
   "source": []
  }
 ],
 "metadata": {
  "kernelspec": {
   "display_name": ".venv",
   "language": "python",
   "name": "python3"
  },
  "language_info": {
   "codemirror_mode": {
    "name": "ipython",
    "version": 3
   },
   "file_extension": ".py",
   "mimetype": "text/x-python",
   "name": "python",
   "nbconvert_exporter": "python",
   "pygments_lexer": "ipython3",
   "version": "3.10.12"
  }
 },
 "nbformat": 4,
 "nbformat_minor": 5
}
