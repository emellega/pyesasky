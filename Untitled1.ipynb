{
 "cells": [
  {
   "cell_type": "code",
   "execution_count": 1,
   "id": "bb4d819d-1c5b-438f-bff0-bddbd945564e",
   "metadata": {},
   "outputs": [
    {
     "data": {
      "application/vnd.jupyter.widget-view+json": {
       "model_id": "97f2fa38f3a34260914892ece7a9821b",
       "version_major": 2,
       "version_minor": 0
      },
      "text/plain": [
       "Accordion(children=(Output(),), titles=('Logs',))"
      ]
     },
     "metadata": {},
     "output_type": "display_data"
    },
    {
     "data": {
      "application/vnd.jupyter.widget-view+json": {
       "model_id": "83f974f7f8d046a7b5f5748b2b1e35d3",
       "version_major": 2,
       "version_minor": 0
      },
      "text/plain": [
       "Box(children=(VBox(children=(FileChooser(path='/src/git/pyesasky2', filename='', title='Select directory for d…"
      ]
     },
     "metadata": {},
     "output_type": "display_data"
    },
    {
     "data": {
      "application/vnd.jupyter.widget-view+json": {
       "model_id": "124bf587601149429eaeb3eaee6ddae5",
       "version_major": 2,
       "version_minor": 0
      },
      "text/plain": [
       "Output(outputs=({'output_type': 'display_data', 'data': {'text/plain': '<IPython.core.display.HTML object>', '…"
      ]
     },
     "metadata": {},
     "output_type": "display_data"
    },
    {
     "data": {
      "application/vnd.jupyter.widget-view+json": {
       "model_id": "9689a7cef014442aaf74f10dc304b3c2",
       "version_major": 2,
       "version_minor": 0
      },
      "text/plain": [
       "ESASkyWidget(layout=Layout(align_self='stretch', height='400px'))"
      ]
     },
     "execution_count": 1,
     "metadata": {},
     "output_type": "execute_result"
    }
   ],
   "source": [
    "from pyesasky import ESASkyWidget\n",
    "esasky = ESASkyWidget(enable_logs=True)\n",
    "esasky"
   ]
  },
  {
   "cell_type": "code",
   "execution_count": 2,
   "id": "4fe4a2da-713a-4e03-bf1a-98532ccb0a22",
   "metadata": {},
   "outputs": [
    {
     "data": {
      "text/plain": [
       "{'ra': 82.17916666666667, 'dec': 35.855000000000004, 'fov': 0.4}"
      ]
     },
     "execution_count": 2,
     "metadata": {},
     "output_type": "execute_result"
    }
   ],
   "source": [
    "esasky.get_center()"
   ]
  },
  {
   "cell_type": "code",
   "execution_count": 3,
   "id": "74fec2de-3747-4a35-94e9-918d229c290c",
   "metadata": {},
   "outputs": [
    {
     "name": "stdout",
     "output_type": "stream",
     "text": [
      "Image observations from missionId: Chandra displayed in the ESASky\n"
     ]
    }
   ],
   "source": [
    "esasky.cs_obs('Chandra', '225.0', '-59', 1)"
   ]
  },
  {
   "cell_type": "code",
   "execution_count": null,
   "id": "53dc1794-0cd8-4cbe-b528-a03303249cf0",
   "metadata": {},
   "outputs": [],
   "source": []
  }
 ],
 "metadata": {
  "kernelspec": {
   "display_name": "Python 3 (ipykernel)",
   "language": "python",
   "name": "python3"
  },
  "language_info": {
   "codemirror_mode": {
    "name": "ipython",
    "version": 3
   },
   "file_extension": ".py",
   "mimetype": "text/x-python",
   "name": "python",
   "nbconvert_exporter": "python",
   "pygments_lexer": "ipython3",
   "version": "3.10.12"
  }
 },
 "nbformat": 4,
 "nbformat_minor": 5
}
