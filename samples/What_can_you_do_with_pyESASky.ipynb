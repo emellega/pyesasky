{
 "cells": [
  {
   "cell_type": "markdown",
   "metadata": {},
   "source": [
    "<p style=\"font-weight: bold;text-align: center;font-size: 3em;color: #00338D\">What can you do with pyESASky?</p>"
   ]
  },
  {
   "cell_type": "markdown",
   "metadata": {},
   "source": [
    "This notebook shows examples of what a scientist may typically want to do within a Jupyter notebook using pyESASky, e.g:\n",
    "* Download and inspect data from ESASky (images, spectra, catalogues, ...)\n",
    "* Cross-match catalogues available through ESASky\n",
    "* Upload your own data to ESASky, e.g.: \n",
    "  * Cross-matched tables\n",
    "  * Vizier catalogues (astropy tables) \n",
    "  * User provided tables\n",
    "  * Footprints\n",
    "  * HiPS\n",
    "* Interact with ESASky Functionalities:\n",
    "  * Set the: FoV, HiPS\n",
    "  * Go to a target or coordinates\n",
    "  * Slide through a selection of HiPS\n",
    "  * See the observations, catalogues and publications count in the current FoV\n",
    "  * Load the data panel for observations, spectra and catalogues accessible in ESASky\n",
    "  * JWST planning tool\n",
    "  * Set the coordinates grid on and off"
   ]
  },
  {
   "cell_type": "code",
   "execution_count": null,
   "metadata": {},
   "outputs": [],
   "source": [
    "# Import the required python modules:\n",
    "from pyesasky import ESASkyWidget\n",
    "from pyesasky import Catalogue\n",
    "from pyesasky import CatalogueDescriptor\n",
    "from pyesasky import CooFrame\n",
    "from pyesasky import ImgFormat\n",
    "from pyesasky import FootprintSet\n",
    "from pyesasky import FootprintSetDescriptor\n",
    "from pyesasky import MetadataDescriptor\n",
    "from pyesasky import MetadataType\n",
    "\n",
    "import pandas as pd"
   ]
  },
  {
   "cell_type": "code",
   "execution_count": null,
   "metadata": {},
   "outputs": [],
   "source": [
    "# Instantiate the pyESASky instance\n",
    "esasky = ESASkyWidget()"
   ]
  },
  {
   "cell_type": "markdown",
   "metadata": {},
   "source": [
    "All of the functions are now documented. Use the IPython ? magic to read about the function. Use tab to complete function names etc:"
   ]
  },
  {
   "cell_type": "code",
   "execution_count": null,
   "metadata": {},
   "outputs": [],
   "source": [
    "?ESASkyWidget.goToRADec"
   ]
  },
  {
   "cell_type": "code",
   "execution_count": null,
   "metadata": {
    "scrolled": true,
    "tags": []
   },
   "outputs": [],
   "source": [
    "# Load the pyESASky instance\n",
    "esasky"
   ]
  },
  {
   "cell_type": "markdown",
   "metadata": {},
   "source": [
    "### Set custom height of the view"
   ]
  },
  {
   "cell_type": "code",
   "execution_count": null,
   "metadata": {},
   "outputs": [],
   "source": [
    "esasky.setViewHeight('1000px')"
   ]
  },
  {
   "cell_type": "markdown",
   "metadata": {},
   "source": [
    "### Go to a target name resolved against SIMBAD"
   ]
  },
  {
   "cell_type": "code",
   "execution_count": null,
   "metadata": {},
   "outputs": [],
   "source": [
    "esasky.goToTargetName('COSMOS Field')"
   ]
  },
  {
   "cell_type": "markdown",
   "metadata": {},
   "source": [
    "### Go to RA and Dec (decimal degrees or sexagesimal format)"
   ]
  },
  {
   "cell_type": "code",
   "execution_count": null,
   "metadata": {},
   "outputs": [],
   "source": [
    "esasky.goToRADec('150.11917', '+02.20583') #COSMOS Field"
   ]
  },
  {
   "cell_type": "markdown",
   "metadata": {},
   "source": [
    "### Set the Field of View in degrees"
   ]
  },
  {
   "cell_type": "code",
   "execution_count": null,
   "metadata": {},
   "outputs": [],
   "source": [
    "esasky.setFoV(0.5)"
   ]
  },
  {
   "cell_type": "markdown",
   "metadata": {},
   "source": [
    "### Change the background HiPS to Herschel PACS colour"
   ]
  },
  {
   "cell_type": "code",
   "execution_count": null,
   "metadata": {},
   "outputs": [],
   "source": [
    "esasky.setHiPS('Herschel PACS RGB 70, 160 micron')\n",
    "# type the following to see the available HiPS from ESASky:\n",
    "# esasky.getAvailableHiPS()"
   ]
  },
  {
   "cell_type": "markdown",
   "metadata": {},
   "source": [
    "<br />\n",
    "<p style=\"font-weight: bold;text-align: center;font-size: 2.5em;color: #00338D\">Download and inspect data from ESASky</p>"
   ]
  },
  {
   "cell_type": "markdown",
   "metadata": {},
   "source": [
    "### Information about the available data in the current field of view can be retrieved. For example the number of sources per catalogue:"
   ]
  },
  {
   "cell_type": "code",
   "execution_count": null,
   "metadata": {},
   "outputs": [],
   "source": [
    "catCount = esasky.getCataloguesCount()\n",
    "catCount = pd.DataFrame.from_dict([catCount]).transpose()\n",
    "catCount.columns = ['Count']\n",
    "catCount"
   ]
  },
  {
   "cell_type": "markdown",
   "metadata": {},
   "source": [
    "### Download sources from the XMM EPIC (3XMM-DR8) catalogue and Herschel PACS 100 micron Point Source Catalogue in the current field of view:"
   ]
  },
  {
   "cell_type": "code",
   "execution_count": null,
   "metadata": {},
   "outputs": [],
   "source": [
    "# Firstly, plot the 3XMM-DR8 catalogue in ESASky:\n",
    "esasky.plotCatalogues('XMM-EPIC')"
   ]
  },
  {
   "cell_type": "code",
   "execution_count": null,
   "metadata": {},
   "outputs": [],
   "source": [
    "# then parse the data with pandas\n",
    "data=esasky.getResultPanelData()\n",
    "xmmepic = pd.DataFrame.from_dict(data)\n",
    "xmmepic"
   ]
  },
  {
   "cell_type": "code",
   "execution_count": null,
   "metadata": {},
   "outputs": [],
   "source": [
    "# Plot the Herschel-HPPSC-100 catalogue in ESASky:\n",
    "esasky.plotCatalogues('Herschel-HPPSC-100')"
   ]
  },
  {
   "cell_type": "code",
   "execution_count": null,
   "metadata": {},
   "outputs": [],
   "source": [
    "# then parse the data with pandas\n",
    "data=esasky.getResultPanelData()\n",
    "HPPSC100 = pd.DataFrame.from_dict(data)\n",
    "HPPSC100"
   ]
  },
  {
   "cell_type": "markdown",
   "metadata": {},
   "source": [
    "### Download and check the postcard of an observation from Chandra in the current FoV"
   ]
  },
  {
   "cell_type": "code",
   "execution_count": null,
   "metadata": {},
   "outputs": [],
   "source": [
    "# Firstly, plot the Chandra imaging observations in ESASky\n",
    "esasky.plotObservations('Chandra')"
   ]
  },
  {
   "cell_type": "code",
   "execution_count": null,
   "metadata": {
    "scrolled": true
   },
   "outputs": [],
   "source": [
    "data=esasky.getResultPanelData()\n",
    "chandra = pd.DataFrame.from_dict(data)\n",
    "chandra"
   ]
  },
  {
   "cell_type": "code",
   "execution_count": null,
   "metadata": {},
   "outputs": [],
   "source": [
    "# plot one of the Chandra observation postcards:\n",
    "from IPython.display import Image\n",
    "Image(chandra.iloc[5]['postcard_url'])"
   ]
  },
  {
   "cell_type": "markdown",
   "metadata": {},
   "source": [
    "### Download data from XMM-Newton in the current FoV"
   ]
  },
  {
   "cell_type": "code",
   "execution_count": null,
   "metadata": {},
   "outputs": [],
   "source": [
    "# Plot the XMM-Newton imaging observations in ESASky\n",
    "esasky.plotObservations('XMM')"
   ]
  },
  {
   "cell_type": "code",
   "execution_count": null,
   "metadata": {
    "scrolled": true
   },
   "outputs": [],
   "source": [
    "data=esasky.getResultPanelData()\n",
    "xmm_newton = pd.DataFrame.from_dict(data)\n",
    "xmm_newton"
   ]
  },
  {
   "cell_type": "markdown",
   "metadata": {},
   "source": [
    "### Display and get data from External Data Centres"
   ]
  },
  {
   "cell_type": "code",
   "execution_count": null,
   "metadata": {},
   "outputs": [],
   "source": [
    "# View the available predefined external TAP services in ESASky,\n",
    "# e.g. European Southern Observatory (ESO), MAST (STScI), Canadian \n",
    "# Astronomical Data Centre (CADC)\n",
    "esasky.getAvailableTapServices()"
   ]
  },
  {
   "cell_type": "code",
   "execution_count": null,
   "metadata": {
    "scrolled": true
   },
   "outputs": [],
   "source": [
    "# View all the available external TAP missions:\n",
    "esasky.getAllAvailableTapMissions()"
   ]
  },
  {
   "cell_type": "code",
   "execution_count": null,
   "metadata": {},
   "outputs": [],
   "source": [
    "# Return the available data in the current field of from ESO (from the ESO TAP):\n",
    "esasky.getTapServiceCount('ESO')"
   ]
  },
  {
   "cell_type": "code",
   "execution_count": null,
   "metadata": {},
   "outputs": [],
   "source": [
    "# Plot the footprints and metadata in pyESASky for ESO VLT images in the current FoV \n",
    "esasky.plotTapService('eso-images-eso-vlt-u')"
   ]
  },
  {
   "cell_type": "code",
   "execution_count": null,
   "metadata": {},
   "outputs": [],
   "source": [
    "data=esasky.getResultPanelData()\n",
    "vlt = pd.DataFrame.from_dict(data)\n",
    "vlt"
   ]
  },
  {
   "cell_type": "markdown",
   "metadata": {},
   "source": [
    "<br />\n",
    "<p style=\"font-weight: bold;text-align: center;font-size: 2.0em;color: #00338D\">Cross-match catalogues using astropy</p>"
   ]
  },
  {
   "cell_type": "markdown",
   "metadata": {},
   "source": [
    "### Cross-match the two catalogues using astropy.coordinates"
   ]
  },
  {
   "cell_type": "code",
   "execution_count": null,
   "metadata": {},
   "outputs": [],
   "source": [
    "from astropy.coordinates import SkyCoord\n",
    "from astropy.coordinates import ICRS, Galactic, FK4, FK5\n",
    "from astropy import units as u"
   ]
  },
  {
   "cell_type": "code",
   "execution_count": null,
   "metadata": {},
   "outputs": [],
   "source": [
    "ra1 = xmmepic['ra']\n",
    "dec1 = xmmepic['dec']\n",
    "ra2 = HPPSC100['ra']\n",
    "dec2 = HPPSC100['dec']\n",
    "c = SkyCoord(ra1, dec1, frame='icrs', unit='deg')\n",
    "catalog = SkyCoord(ra2, dec2, frame='icrs', unit='deg')\n",
    "idx, d2d, d3d = c.match_to_catalog_sky(catalog)"
   ]
  },
  {
   "cell_type": "code",
   "execution_count": null,
   "metadata": {
    "scrolled": true
   },
   "outputs": [],
   "source": [
    "# Set a maximum separation as 5 arcseconds\n",
    "max_sep = 5.0 * u.arcsec\n",
    "idx, d2d, d3d = c.match_to_catalog_3d(catalog)\n",
    "sep_constraint = d2d < max_sep\n",
    "c_matches = c[sep_constraint]\n",
    "catalog_matches = catalog[idx[sep_constraint]]\n",
    "catalog_matches\n",
    "#catalog_matches"
   ]
  },
  {
   "cell_type": "code",
   "execution_count": null,
   "metadata": {},
   "outputs": [],
   "source": [
    "# Convert the SkyCoord column to an astropy table \n",
    "# and add a Name column (for pyESASky)\n",
    "from astropy.table import Table\n",
    "import numpy as np\n",
    "XMMEPIC_HPPSC100 = Table()\n",
    "XMMEPIC_HPPSC100['ra'] = catalog_matches.ra\n",
    "XMMEPIC_HPPSC100['dec'] = catalog_matches.dec\n",
    "XMMEPIC_HPPSC100['Name'] = np.linspace(1, catalog_matches.size, catalog_matches.size)\n",
    "XMMEPIC_HPPSC100"
   ]
  },
  {
   "cell_type": "markdown",
   "metadata": {},
   "source": [
    "<br />\n",
    "<p style=\"font-weight: bold;text-align: center;font-size: 2.5em;color: #00338D\">Send your data to ESASky</p>"
   ]
  },
  {
   "cell_type": "markdown",
   "metadata": {},
   "source": [
    "## Send the cross-matched table to ESASky"
   ]
  },
  {
   "cell_type": "code",
   "execution_count": null,
   "metadata": {},
   "outputs": [],
   "source": [
    "# overlayCatalogueFromAstropyTable('<catName>', '<cooFrame>', <color>, <lineWidth>, <table>, '<raColname>', '<decColname>', '<mainIDColname>')\n",
    "# where:\n",
    "# - <catName> : name of the catalogue that will be used in pyESASky as label\n",
    "# - <cooFRAME> : coordinate frame\n",
    "# - <color> : HTML color. It could be a \"Color name\", \"Hex color code\" or \"RGB color code\"\n",
    "# - <lineWidth> : width used to draw sources. From 1 to 10\n",
    "# - <table> : name of the column containing a unique identifier for sources if any. None if not applicable\n",
    "# - <raColname> : name of the RA column in degrees\n",
    "# - <decColname> : name of the Dec column in degrees\n",
    "# - <mainIDColname> : name of the column with the name of the source\n",
    "\n",
    "esasky.overlayCatalogueFromAstropyTable('XMMEPIC_HPPSC100', 'J2000', '#ffff00', 10, XMMEPIC_HPPSC100, 'ra','dec','Name')"
   ]
  },
  {
   "cell_type": "markdown",
   "metadata": {},
   "source": [
    "## Send a catalogue in VizieR to ESASky"
   ]
  },
  {
   "cell_type": "code",
   "execution_count": null,
   "metadata": {},
   "outputs": [],
   "source": [
    "# Import the VizieR astroquery module\n",
    "from astroquery.vizier import Vizier"
   ]
  },
  {
   "cell_type": "code",
   "execution_count": null,
   "metadata": {},
   "outputs": [],
   "source": [
    "# Query the Véron-Cetty+ 2010 catalogue, VII/258/vv10, for the \n",
    "# Cosmos field with search radius 0.5 degrees\n",
    "result = Vizier.query_region(\"Cosmos Field\", \n",
    "                             radius=0.5*u.deg, catalog='VII/258/vv10')\n",
    "print(result)"
   ]
  },
  {
   "cell_type": "code",
   "execution_count": null,
   "metadata": {
    "scrolled": true
   },
   "outputs": [],
   "source": [
    "Veron = result['VII/258/vv10']\n",
    "Veron"
   ]
  },
  {
   "cell_type": "code",
   "execution_count": null,
   "metadata": {
    "scrolled": true
   },
   "outputs": [],
   "source": [
    "#transform the RA and Dec to degrees and add two new columns\n",
    "c = SkyCoord(Veron['RAJ2000'], Veron['DEJ2000'], unit=(u.hourangle, u.deg))\n",
    "Veron['RAJ2000'] = c.ra\n",
    "Veron['DEJ2000'] = c.dec\n",
    "Veron"
   ]
  },
  {
   "cell_type": "code",
   "execution_count": null,
   "metadata": {},
   "outputs": [],
   "source": [
    "# Send the catalogue to ESASky\n",
    "esasky.overlayCatalogueFromAstropyTable('Veron', 'J2000', '#33c9cc', 5, Veron, 'RAJ2000', 'DEJ2000','Name')"
   ]
  },
  {
   "cell_type": "markdown",
   "metadata": {},
   "source": [
    "You can also upload your own tables from files or create your own tables and send them to ESASky."
   ]
  },
  {
   "cell_type": "markdown",
   "metadata": {},
   "source": [
    "### Conesearch"
   ]
  },
  {
   "cell_type": "code",
   "execution_count": null,
   "metadata": {},
   "outputs": [],
   "source": [
    "esasky.goToRADec('15 0 0', '-59')\n",
    "esasky.setFoV(5)"
   ]
  },
  {
   "cell_type": "code",
   "execution_count": null,
   "metadata": {},
   "outputs": [],
   "source": [
    "?esasky.coneSearchCatalogues"
   ]
  },
  {
   "cell_type": "code",
   "execution_count": null,
   "metadata": {},
   "outputs": [],
   "source": [
    "esasky.coneSearchCatalogues('Herschel-HPPSC-160', '225.0', '-59', 1 )"
   ]
  },
  {
   "cell_type": "code",
   "execution_count": null,
   "metadata": {},
   "outputs": [],
   "source": [
    "esasky.coneSearchObservations('Chandra', '225.0', '-59', 1 )"
   ]
  },
  {
   "cell_type": "code",
   "execution_count": null,
   "metadata": {},
   "outputs": [],
   "source": [
    "esasky.coneSearchSpectra('ISO-IR', '225.0', '-59', 1 )"
   ]
  },
  {
   "cell_type": "code",
   "execution_count": null,
   "metadata": {},
   "outputs": [],
   "source": [
    "esasky.closeAllResultPanelTabs()"
   ]
  },
  {
   "cell_type": "markdown",
   "metadata": {},
   "source": [
    "## Send Footprints to ESASky"
   ]
  },
  {
   "cell_type": "code",
   "execution_count": null,
   "metadata": {},
   "outputs": [],
   "source": [
    "# Go to anoter region in the sky, set the Fov and change HiPS to Spitzer\n",
    "esasky.goToTargetName('[SPK2012] MWP1G300134-001035')\n",
    "esasky.setFoV(2.3)\n",
    "esasky.setHiPS(\"Spitzer cold SEIP IRAC-1-3-4 RGB bright\")\n",
    "#esasky.setHiPS(\"Spitzer\", \"http://cdn.skies.esac.esa.int/Spitzer/IRAC134_RGB_bright/\")"
   ]
  },
  {
   "cell_type": "code",
   "execution_count": null,
   "metadata": {},
   "outputs": [],
   "source": [
    "footprintDesc = FootprintSetDescriptor('test footprints', 'red', 5, 'id', 'id', 'stcs', 'ra', 'dec', [])"
   ]
  },
  {
   "cell_type": "code",
   "execution_count": null,
   "metadata": {},
   "outputs": [],
   "source": [
    "esasky.overlayFootprintsFromCSV('./testfootprint.csv', ',', footprintDesc)"
   ]
  },
  {
   "cell_type": "code",
   "execution_count": null,
   "metadata": {},
   "outputs": [],
   "source": [
    "esasky.closeResultPanelTab()\n",
    "esasky.closeResultPanelTab()\n",
    "esasky.closeResultPanelTab()\n",
    "esasky.closeResultPanelTab()\n",
    "esasky.closeResultPanelTab()\n",
    "esasky.closeResultPanelTab()\n",
    "esasky.closeResultPanelTab()"
   ]
  },
  {
   "cell_type": "markdown",
   "metadata": {},
   "source": [
    "## Send your own HiPS to ESASky"
   ]
  },
  {
   "cell_type": "markdown",
   "metadata": {},
   "source": [
    "This will start a tornado server opening up a port allowing web browser access to this path and all folders/files underneath"
   ]
  },
  {
   "cell_type": "code",
   "execution_count": null,
   "metadata": {},
   "outputs": [],
   "source": [
    "esasky.goToRADec('266.41683', '-29.00781')\n",
    "esasky.setFoV(90)\n",
    "esasky.removeHiPS('User')\n",
    "#Change the below directory to your own HiPS\n",
    "esasky.addHiPS(\"MyLocalHiPS\", \"/Users/dbaines/Downloads/LFI_SkyMap_030_1024_R3.00_full_HiPS/\")\n",
    "esasky.setHiPSColorPalette('PLANCK')\n",
    "esasky.openSkyPanel()"
   ]
  },
  {
   "cell_type": "code",
   "execution_count": null,
   "metadata": {},
   "outputs": [],
   "source": [
    "#Stop the tornado server:\n",
    "esasky.httpserver.stop()"
   ]
  },
  {
   "cell_type": "markdown",
   "metadata": {},
   "source": [
    "<br />\n",
    "<p style=\"font-weight: bold;text-align: center;font-size: 2.5em;color: #00338D\">Interacting with other ESASky Functionalities</p>"
   ]
  },
  {
   "cell_type": "markdown",
   "metadata": {},
   "source": [
    "## Sliding through different HiPS"
   ]
  },
  {
   "cell_type": "code",
   "execution_count": null,
   "metadata": {},
   "outputs": [],
   "source": [
    "# Go to Seyfert 2 Galaxy Centaurus A\n",
    "esasky.removeHiPS('User')\n",
    "esasky.goToRADec(201.365063, -43.019113)\n",
    "esasky.setFoV(0.2)"
   ]
  },
  {
   "cell_type": "markdown",
   "metadata": {},
   "source": [
    "Add HiPS to the sky panel"
   ]
  },
  {
   "cell_type": "code",
   "execution_count": null,
   "metadata": {},
   "outputs": [],
   "source": [
    "esasky.addHiPS(\"Chandra RGB\")\n",
    "esasky.addHiPS(\"XMM-Newton EPIC color\")\n",
    "esasky.addHiPS(\"DSS2 Color\")\n",
    "esasky.addHiPS(\"2MASS color JHK\")\n",
    "esasky.addHiPS(\"Spitzer cold SEIP IRAC2 faint\")\n",
    "esasky.addHiPS(\"Herschel PACS RGB 70, 160 micron\")"
   ]
  },
  {
   "cell_type": "markdown",
   "metadata": {},
   "source": [
    "Animations can be made programmatically using this slider function"
   ]
  },
  {
   "cell_type": "code",
   "execution_count": null,
   "metadata": {},
   "outputs": [],
   "source": [
    "import time\n",
    "for i in range(500):\n",
    "    esasky.setHiPSSliderValue(i/100.0)\n",
    "    time.sleep(0.02)"
   ]
  },
  {
   "cell_type": "markdown",
   "metadata": {},
   "source": [
    "We can even create a slider in the python interface to control the HiPS"
   ]
  },
  {
   "cell_type": "code",
   "execution_count": null,
   "metadata": {},
   "outputs": [],
   "source": [
    "import asyncio\n",
    "nSkies = esasky.getNumberOfSkyRows()\n",
    "def wait_for_change(widget, value):\n",
    "    future = asyncio.Future()\n",
    "    def getvalue(change):\n",
    "        future.set_result(change.new)\n",
    "        widget.unobserve(getvalue, value)\n",
    "    widget.observe(getvalue, value)\n",
    "    return future\n",
    "\n",
    "from ipywidgets import FloatSlider\n",
    "slider = FloatSlider(min=0.0, max=nSkies-1, step=0.01,  continuous_update=True)\n",
    "\n",
    "async def f():\n",
    "    while True:\n",
    "        x = await wait_for_change(slider, 'value')\n",
    "        esasky.setHiPSSliderValue(x)\n",
    "asyncio.ensure_future(f())\n",
    "\n",
    "slider"
   ]
  },
  {
   "cell_type": "markdown",
   "metadata": {},
   "source": [
    "## Browsing global hipslist"
   ]
  },
  {
   "cell_type": "markdown",
   "metadata": {},
   "source": [
    "Retrieves a pandas dataframe with all available hips from the hips registry: http://aladin.u-strasbg.fr/hips/globalhipslist?fmt=json"
   ]
  },
  {
   "cell_type": "code",
   "execution_count": null,
   "metadata": {},
   "outputs": [],
   "source": [
    "hipsList = esasky.browseHips()"
   ]
  },
  {
   "cell_type": "markdown",
   "metadata": {},
   "source": [
    "You can then use pandas to filter on what you want to see. For example looking at PLANCK HiPS\n"
   ]
  },
  {
   "cell_type": "code",
   "execution_count": null,
   "metadata": {
    "tags": []
   },
   "outputs": [],
   "source": [
    "hipsList[hipsList['ID'].str.contains(\"PLANCK\")]"
   ]
  },
  {
   "cell_type": "markdown",
   "metadata": {},
   "source": [
    "Or for example on a tight band of wavelengths in lower optical range"
   ]
  },
  {
   "cell_type": "code",
   "execution_count": null,
   "metadata": {
    "tags": []
   },
   "outputs": [],
   "source": [
    "opticalHips = hipsList[(hipsList['em_min'] > 7e-07) & (hipsList['em_max'] < 9e-07)]\n",
    "opticalHips"
   ]
  },
  {
   "cell_type": "markdown",
   "metadata": {},
   "source": [
    "Then use the url to set the third entry, the SUBARU  as the current HiPS in ESASky"
   ]
  },
  {
   "cell_type": "code",
   "execution_count": null,
   "metadata": {},
   "outputs": [],
   "source": [
    "esasky.addHiPS(opticalHips.iloc[2,:]['ID'], opticalHips.iloc[2,:]['hips_service_url'])"
   ]
  },
  {
   "cell_type": "markdown",
   "metadata": {},
   "source": [
    "This HiPS has a quite low sky fraction coverage as can be seen in the table so we have to go to a covered area to see anything"
   ]
  },
  {
   "cell_type": "code",
   "execution_count": null,
   "metadata": {},
   "outputs": [],
   "source": [
    "esasky.goToRADec(296.3, -7.9)\n",
    "esasky.setFoV(.5)"
   ]
  },
  {
   "cell_type": "markdown",
   "metadata": {},
   "source": [
    "## Interacting with the JWST Planning Tool"
   ]
  },
  {
   "cell_type": "markdown",
   "metadata": {},
   "source": [
    "### Open the JWST Planning Tool and add an instrument at specific coordinates"
   ]
  },
  {
   "cell_type": "code",
   "execution_count": null,
   "metadata": {},
   "outputs": [],
   "source": [
    "esasky.closeSkyPanel() #first, close the sky panel\n",
    "esasky.addJwstWithCoordinates(\"NIRSpec\", \"NRS_FULL_MSA\", False, \"201.365063\", \"-43.019113\", \"5\")"
   ]
  },
  {
   "cell_type": "markdown",
   "metadata": {},
   "source": [
    "### Add an instrument at the centre of the screen and include all instruments in the focal plane"
   ]
  },
  {
   "cell_type": "code",
   "execution_count": null,
   "metadata": {},
   "outputs": [],
   "source": [
    "esasky.setFoV(0.5)\n",
    "esasky.addJwst(\"NIRCam\", \"NRCALL_FULL\", True)"
   ]
  },
  {
   "cell_type": "code",
   "execution_count": null,
   "metadata": {},
   "outputs": [],
   "source": [
    "esasky.addJwstWithCoordinates?"
   ]
  },
  {
   "cell_type": "code",
   "execution_count": null,
   "metadata": {},
   "outputs": [],
   "source": [
    "esasky.closeJwstPanel()"
   ]
  },
  {
   "cell_type": "code",
   "execution_count": null,
   "metadata": {},
   "outputs": [],
   "source": [
    "esasky.openJwstPanel()"
   ]
  },
  {
   "cell_type": "code",
   "execution_count": null,
   "metadata": {},
   "outputs": [],
   "source": [
    "esasky.clearJwstAll()\n",
    "esasky.closeJwstPanel()"
   ]
  },
  {
   "cell_type": "markdown",
   "metadata": {},
   "source": [
    "## Coordinates Grid"
   ]
  },
  {
   "cell_type": "markdown",
   "metadata": {},
   "source": [
    "The latest version of ESASky includes a coordinates grid which can be switched on and off:"
   ]
  },
  {
   "cell_type": "code",
   "execution_count": null,
   "metadata": {},
   "outputs": [],
   "source": [
    "esasky.goToRADec(350.850, +58.815) #Cas A\n",
    "esasky.setFoV(0.2)"
   ]
  },
  {
   "cell_type": "code",
   "execution_count": null,
   "metadata": {},
   "outputs": [],
   "source": [
    "esasky.setHiPS('Chandra RGB')\n",
    "esasky.showCoordinateGrid(True)"
   ]
  },
  {
   "cell_type": "code",
   "execution_count": null,
   "metadata": {},
   "outputs": [],
   "source": [
    "esasky.showCoordinateGrid(False)"
   ]
  },
  {
   "cell_type": "markdown",
   "metadata": {},
   "source": [
    "### Healpix MOCs"
   ]
  },
  {
   "cell_type": "markdown",
   "metadata": {},
   "source": [
    "Display your own multi-order coverage (MOC) maps on the sky using IVOA string or JSON notation"
   ]
  },
  {
   "cell_type": "code",
   "execution_count": null,
   "metadata": {},
   "outputs": [],
   "source": [
    "esasky.overlayMOC('6/2-15 23 554 7/22 50-75', 'myMoc', 'blue', 0.2)"
   ]
  },
  {
   "cell_type": "code",
   "execution_count": null,
   "metadata": {},
   "outputs": [],
   "source": [
    "esasky.overlayMOC('{\"3\":[1,2,3,4,5], \"4\":[26,27]}', 'myMoc2', '#FF1244', 1)"
   ]
  },
  {
   "cell_type": "code",
   "execution_count": null,
   "metadata": {},
   "outputs": [],
   "source": [
    "esasky.removeMOC('myMoc')\n",
    "esasky.removeMOC('myMoc2')"
   ]
  }
 ],
 "metadata": {
  "kernelspec": {
   "display_name": "Python 3",
   "language": "python",
   "name": "python3"
  },
  "language_info": {
   "codemirror_mode": {
    "name": "ipython",
    "version": 3
   },
   "file_extension": ".py",
   "mimetype": "text/x-python",
   "name": "python",
   "nbconvert_exporter": "python",
   "pygments_lexer": "ipython3",
   "version": "3.7.10"
  }
 },
 "nbformat": 4,
 "nbformat_minor": 4
}
