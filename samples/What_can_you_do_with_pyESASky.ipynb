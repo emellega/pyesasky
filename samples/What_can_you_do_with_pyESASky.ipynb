{
 "cells": [
  {
   "cell_type": "markdown",
   "metadata": {},
   "source": [
    "<p style=\"font-weight: bold;text-align: center;font-size: 3em;color: #00338D\">What can you do with pyESASky?</p>"
   ]
  },
  {
   "cell_type": "markdown",
   "metadata": {},
   "source": [
    "This notebook shows examples of what a scientist may typically want to do within a Jupyter notebook using pyESASky, e.g:\n",
    "* Download and inspect data from ESASky (images, spectra, catalogues, ...)\n",
    "* Cross-match catalogues available through ESASky\n",
    "* Upload your own data to ESASky, e.g.: \n",
    "  * Cross-matched tables\n",
    "  * Vizier catalogues (astropy tables) \n",
    "  * User provided tables\n",
    "  * Footprints\n",
    "  * HiPS\n",
    "* Interact with ESASky Functionalities:\n",
    "  * Set the: FoV, HiPS\n",
    "  * Go to a target or coordinates\n",
    "  * Slide through a selection of HiPS\n",
    "  * See the observations, catalogues and publications count in the current FoV\n",
    "  * Load the data panel for observations, spectra and catalogues accessible in ESASky\n",
    "  * JWST planning tool\n",
    "  * Set the coordinates grid on and off"
   ]
  },
  {
   "cell_type": "code",
   "execution_count": 1,
   "metadata": {},
   "outputs": [],
   "source": [
    "# Import the required python modules:\n",
    "from pyesasky import ESASkyWidget\n",
    "from pyesasky import Catalogue\n",
    "from pyesasky import CatalogueDescriptor\n",
    "from pyesasky import CooFrame\n",
    "from pyesasky import ImgFormat\n",
    "from pyesasky import FootprintSet\n",
    "from pyesasky import FootprintSetDescriptor\n",
    "from pyesasky import MetadataDescriptor\n",
    "from pyesasky import MetadataType\n",
    "\n",
    "import pandas as pd"
   ]
  },
  {
   "cell_type": "code",
   "execution_count": 2,
   "metadata": {},
   "outputs": [],
   "source": [
    "# Instantiate the pyESASky instance\n",
    "esasky = ESASkyWidget('En')\n",
    "#Es and Zh are available for Spanish or Mandarin"
   ]
  },
  {
   "cell_type": "markdown",
   "metadata": {},
   "source": [
    "All of the functions are now documented. Use the IPython ? magic to read about the function. Use tab to complete function names etc:"
   ]
  },
  {
   "cell_type": "code",
   "execution_count": 3,
   "metadata": {},
   "outputs": [
    {
     "data": {
      "text/plain": [
       "\u001b[0;31mSignature:\u001b[0m \u001b[0mESASkyWidget\u001b[0m\u001b[0;34m.\u001b[0m\u001b[0mgoToRADec\u001b[0m\u001b[0;34m(\u001b[0m\u001b[0mself\u001b[0m\u001b[0;34m,\u001b[0m \u001b[0mra\u001b[0m\u001b[0;34m,\u001b[0m \u001b[0mdec\u001b[0m\u001b[0;34m)\u001b[0m\u001b[0;34m\u001b[0m\u001b[0;34m\u001b[0m\u001b[0m\n",
       "\u001b[0;31mDocstring:\u001b[0m\n",
       "Moves the center of the view to the specified coordinate \n",
       "in current coordinate system\n",
       "\n",
       "Arguments:\n",
       "ra -- float or string in sexagesimal or decimal format\n",
       "dec -- float or string in sexagesimal or decimal format\n",
       "\u001b[0;31mFile:\u001b[0m      ~/anaconda3/lib/python3.7/site-packages/pyesasky/pyesasky.py\n",
       "\u001b[0;31mType:\u001b[0m      function\n"
      ]
     },
     "metadata": {},
     "output_type": "display_data"
    }
   ],
   "source": [
    "?ESASkyWidget.goToRADec"
   ]
  },
  {
   "cell_type": "code",
   "execution_count": 3,
   "metadata": {},
   "outputs": [
    {
     "data": {
      "application/vnd.jupyter.widget-view+json": {
       "model_id": "bc3429c570d249f9bec8d9f6e6e9f736",
       "version_major": 2,
       "version_minor": 0
      },
      "text/plain": [
       "ESASkyWidget(layout=Layout(align_self='stretch', height='400px'))"
      ]
     },
     "metadata": {},
     "output_type": "display_data"
    }
   ],
   "source": [
    "# Load the pyESASky instance\n",
    "esasky"
   ]
  },
  {
   "cell_type": "markdown",
   "metadata": {},
   "source": [
    "### Set custom height of the view"
   ]
  },
  {
   "cell_type": "code",
   "execution_count": 20,
   "metadata": {},
   "outputs": [],
   "source": [
    "esasky.setViewHeight('1000px')"
   ]
  },
  {
   "cell_type": "markdown",
   "metadata": {},
   "source": [
    "### Go to a target name resolved against SIMBAD"
   ]
  },
  {
   "cell_type": "code",
   "execution_count": 16,
   "metadata": {},
   "outputs": [],
   "source": [
    "esasky.goToTargetName('COSMOS Field')"
   ]
  },
  {
   "cell_type": "markdown",
   "metadata": {},
   "source": [
    "### Go to RA and Dec (decimal degrees or sexagesimal format)"
   ]
  },
  {
   "cell_type": "code",
   "execution_count": 13,
   "metadata": {},
   "outputs": [],
   "source": [
    "esasky.goToRADec('190.11917', '+02.20583') #COSMOS Field"
   ]
  },
  {
   "cell_type": "markdown",
   "metadata": {},
   "source": [
    "### Set the Field of View in degrees"
   ]
  },
  {
   "cell_type": "code",
   "execution_count": 14,
   "metadata": {},
   "outputs": [],
   "source": [
    "esasky.setFoV(0.5)"
   ]
  },
  {
   "cell_type": "markdown",
   "metadata": {},
   "source": [
    "### Change the background HiPS to Herschel PACS colour"
   ]
  },
  {
   "cell_type": "code",
   "execution_count": 15,
   "metadata": {},
   "outputs": [],
   "source": [
    "esasky.setHiPS('Herschel PACS RGB 70, 160 micron')\n",
    "# type the following to see the available HiPS from ESASky:\n",
    "# esasky.getAvailableHiPS()"
   ]
  },
  {
   "cell_type": "markdown",
   "metadata": {},
   "source": [
    "<br />\n",
    "<p style=\"font-weight: bold;text-align: center;font-size: 2.5em;color: #00338D\">Download and inspect data from ESASky</p>"
   ]
  },
  {
   "cell_type": "markdown",
   "metadata": {},
   "source": [
    "### Information about the available data in the current field of view can be retrieved. For example the number of sources per catalogue:"
   ]
  },
  {
   "cell_type": "code",
   "execution_count": 18,
   "metadata": {
    "jupyter": {
     "source_hidden": true
    }
   },
   "outputs": [
    {
     "data": {
      "text/html": [
       "<div>\n",
       "<style scoped>\n",
       "    .dataframe tbody tr th:only-of-type {\n",
       "        vertical-align: middle;\n",
       "    }\n",
       "\n",
       "    .dataframe tbody tr th {\n",
       "        vertical-align: top;\n",
       "    }\n",
       "\n",
       "    .dataframe thead th {\n",
       "        text-align: right;\n",
       "    }\n",
       "</style>\n",
       "<table border=\"1\" class=\"dataframe\">\n",
       "  <thead>\n",
       "    <tr style=\"text-align: right;\">\n",
       "      <th></th>\n",
       "      <th>Count</th>\n",
       "    </tr>\n",
       "  </thead>\n",
       "  <tbody>\n",
       "    <tr>\n",
       "      <th>LAMOST</th>\n",
       "      <td>86</td>\n",
       "    </tr>\n",
       "    <tr>\n",
       "      <th>AllWise</th>\n",
       "      <td>1853</td>\n",
       "    </tr>\n",
       "    <tr>\n",
       "      <th>AKARI-IRC-SC</th>\n",
       "      <td>0</td>\n",
       "    </tr>\n",
       "    <tr>\n",
       "      <th>2MASS</th>\n",
       "      <td>239</td>\n",
       "    </tr>\n",
       "    <tr>\n",
       "      <th>INTEGRAL</th>\n",
       "      <td>0</td>\n",
       "    </tr>\n",
       "    <tr>\n",
       "      <th>CHANDRA-SC2</th>\n",
       "      <td>274</td>\n",
       "    </tr>\n",
       "    <tr>\n",
       "      <th>XMM-EPIC-STACK</th>\n",
       "      <td>159</td>\n",
       "    </tr>\n",
       "    <tr>\n",
       "      <th>XMM-EPIC</th>\n",
       "      <td>554</td>\n",
       "    </tr>\n",
       "    <tr>\n",
       "      <th>XMM-OM</th>\n",
       "      <td>1197</td>\n",
       "    </tr>\n",
       "    <tr>\n",
       "      <th>XMM-SLEW</th>\n",
       "      <td>0</td>\n",
       "    </tr>\n",
       "    <tr>\n",
       "      <th>Tycho-2</th>\n",
       "      <td>4</td>\n",
       "    </tr>\n",
       "    <tr>\n",
       "      <th>Gaia DR2</th>\n",
       "      <td>3078</td>\n",
       "    </tr>\n",
       "    <tr>\n",
       "      <th>Hipparcos-2</th>\n",
       "      <td>0</td>\n",
       "    </tr>\n",
       "    <tr>\n",
       "      <th>HSC</th>\n",
       "      <td>343341</td>\n",
       "    </tr>\n",
       "    <tr>\n",
       "      <th>Herschel-HPPSC-070</th>\n",
       "      <td>0</td>\n",
       "    </tr>\n",
       "    <tr>\n",
       "      <th>Herschel-HPPSC-100</th>\n",
       "      <td>562</td>\n",
       "    </tr>\n",
       "    <tr>\n",
       "      <th>Herschel-HPPSC-160</th>\n",
       "      <td>251</td>\n",
       "    </tr>\n",
       "    <tr>\n",
       "      <th>Herschel-SPSC-250</th>\n",
       "      <td>249</td>\n",
       "    </tr>\n",
       "    <tr>\n",
       "      <th>Herschel-SPSC-350</th>\n",
       "      <td>93</td>\n",
       "    </tr>\n",
       "    <tr>\n",
       "      <th>Herschel-SPSC-500</th>\n",
       "      <td>63</td>\n",
       "    </tr>\n",
       "    <tr>\n",
       "      <th>Planck-PGCC</th>\n",
       "      <td>0</td>\n",
       "    </tr>\n",
       "    <tr>\n",
       "      <th>Planck-PCCS2E-HFI</th>\n",
       "      <td>0</td>\n",
       "    </tr>\n",
       "    <tr>\n",
       "      <th>Planck-PCCS2-HFI</th>\n",
       "      <td>0</td>\n",
       "    </tr>\n",
       "    <tr>\n",
       "      <th>Planck-PCCS2-LFI</th>\n",
       "      <td>0</td>\n",
       "    </tr>\n",
       "    <tr>\n",
       "      <th>Planck-PSZ2</th>\n",
       "      <td>0</td>\n",
       "    </tr>\n",
       "    <tr>\n",
       "      <th>Total</th>\n",
       "      <td>352003</td>\n",
       "    </tr>\n",
       "  </tbody>\n",
       "</table>\n",
       "</div>"
      ],
      "text/plain": [
       "                     Count\n",
       "LAMOST                  86\n",
       "AllWise               1853\n",
       "AKARI-IRC-SC             0\n",
       "2MASS                  239\n",
       "INTEGRAL                 0\n",
       "CHANDRA-SC2            274\n",
       "XMM-EPIC-STACK         159\n",
       "XMM-EPIC               554\n",
       "XMM-OM                1197\n",
       "XMM-SLEW                 0\n",
       "Tycho-2                  4\n",
       "Gaia DR2              3078\n",
       "Hipparcos-2              0\n",
       "HSC                 343341\n",
       "Herschel-HPPSC-070       0\n",
       "Herschel-HPPSC-100     562\n",
       "Herschel-HPPSC-160     251\n",
       "Herschel-SPSC-250      249\n",
       "Herschel-SPSC-350       93\n",
       "Herschel-SPSC-500       63\n",
       "Planck-PGCC              0\n",
       "Planck-PCCS2E-HFI        0\n",
       "Planck-PCCS2-HFI         0\n",
       "Planck-PCCS2-LFI         0\n",
       "Planck-PSZ2              0\n",
       "Total               352003"
      ]
     },
     "execution_count": 18,
     "metadata": {},
     "output_type": "execute_result"
    }
   ],
   "source": [
    "catCount = esasky.getCataloguesCount()\n",
    "catCount = pd.DataFrame.from_dict([catCount]).transpose()\n",
    "catCount.columns = ['Count']\n",
    "catCount"
   ]
  },
  {
   "cell_type": "markdown",
   "metadata": {},
   "source": [
    "### Download sources from the XMM EPIC (3XMM-DR8) catalogue and Herschel PACS 100 micron Point Source Catalogue in the current field of view:"
   ]
  },
  {
   "cell_type": "code",
   "execution_count": 21,
   "metadata": {},
   "outputs": [
    {
     "name": "stdout",
     "output_type": "stream",
     "text": [
      "Catalogs from missionId: XMM-EPIC displayed in the ESASky\n"
     ]
    }
   ],
   "source": [
    "# Firstly, plot the 3XMM-DR8 catalogue in ESASky:\n",
    "esasky.plotCatalogues('XMM-EPIC')"
   ]
  },
  {
   "cell_type": "code",
   "execution_count": 22,
   "metadata": {},
   "outputs": [
    {
     "data": {
      "text/html": [
       "<div>\n",
       "<style scoped>\n",
       "    .dataframe tbody tr th:only-of-type {\n",
       "        vertical-align: middle;\n",
       "    }\n",
       "\n",
       "    .dataframe tbody tr th {\n",
       "        vertical-align: top;\n",
       "    }\n",
       "\n",
       "    .dataframe thead th {\n",
       "        text-align: right;\n",
       "    }\n",
       "</style>\n",
       "<table border=\"1\" class=\"dataframe\">\n",
       "  <thead>\n",
       "    <tr style=\"text-align: right;\">\n",
       "      <th></th>\n",
       "      <th>postcard_url</th>\n",
       "      <th>name</th>\n",
       "      <th>ra</th>\n",
       "      <th>dec</th>\n",
       "      <th>ep_8_flux</th>\n",
       "      <th>ep_8_flux_err</th>\n",
       "      <th>ep_2_flux</th>\n",
       "      <th>ep_2_flux_err</th>\n",
       "      <th>ep_3_flux</th>\n",
       "      <th>ep_3_flux_err</th>\n",
       "      <th>ep_4_flux</th>\n",
       "      <th>ep_4_flux_err</th>\n",
       "      <th>ep_5_flux</th>\n",
       "      <th>ep_5_flux_err</th>\n",
       "      <th>mjd_start</th>\n",
       "    </tr>\n",
       "  </thead>\n",
       "  <tbody>\n",
       "    <tr>\n",
       "      <th>0</th>\n",
       "      <td>http://nxsa.esac.esa.int/nxsa-sl/servlet/data-...</td>\n",
       "      <td>4XMM J100002.7+021635</td>\n",
       "      <td>150.0112807904</td>\n",
       "      <td>2.276475167277</td>\n",
       "      <td>1.33832E-14</td>\n",
       "      <td>1.2297E-14</td>\n",
       "      <td>3.02972E-15</td>\n",
       "      <td>1.01625E-15</td>\n",
       "      <td>3.2435E-15</td>\n",
       "      <td>1.06306E-15</td>\n",
       "      <td>4.13274E-15</td>\n",
       "      <td>2.35396E-15</td>\n",
       "      <td>0.0</td>\n",
       "      <td>1.19296E-14</td>\n",
       "      <td>55715.2339814799998</td>\n",
       "    </tr>\n",
       "    <tr>\n",
       "      <th>1</th>\n",
       "      <td>http://nxsa.esac.esa.int/nxsa-sl/servlet/data-...</td>\n",
       "      <td>4XMM J100020.2+021726</td>\n",
       "      <td>150.0837473632</td>\n",
       "      <td>2.291077241209</td>\n",
       "      <td>9.74593E-14</td>\n",
       "      <td>6.83029E-14</td>\n",
       "      <td>1.80549E-15</td>\n",
       "      <td>1.00529E-15</td>\n",
       "      <td>3.63801E-15</td>\n",
       "      <td>1.74639E-15</td>\n",
       "      <td>7.52876E-15</td>\n",
       "      <td>5.51109E-15</td>\n",
       "      <td>8.19262E-14</td>\n",
       "      <td>6.80424E-14</td>\n",
       "      <td>53872.7568287000031</td>\n",
       "    </tr>\n",
       "    <tr>\n",
       "      <th>2</th>\n",
       "      <td>http://nxsa.esac.esa.int/nxsa-sl/servlet/data-...</td>\n",
       "      <td>4XMM J100024.2+021003</td>\n",
       "      <td>150.1011908405</td>\n",
       "      <td>2.168109542254</td>\n",
       "      <td>9.17045E-15</td>\n",
       "      <td>3.1098E-14</td>\n",
       "      <td>1.02688E-15</td>\n",
       "      <td>7.45904E-16</td>\n",
       "      <td>3.86987E-15</td>\n",
       "      <td>1.5771E-15</td>\n",
       "      <td>3.02251E-15</td>\n",
       "      <td>3.72394E-15</td>\n",
       "      <td>0.0</td>\n",
       "      <td>3.08175E-14</td>\n",
       "      <td>53699.8381134299998</td>\n",
       "    </tr>\n",
       "    <tr>\n",
       "      <th>3</th>\n",
       "      <td>http://nxsa.esac.esa.int/nxsa-sl/servlet/data-...</td>\n",
       "      <td>4XMM J100025.2+015852</td>\n",
       "      <td>150.1051909102</td>\n",
       "      <td>1.981025748409</td>\n",
       "      <td>7.96351E-13</td>\n",
       "      <td>9.62405E-14</td>\n",
       "      <td>6.38775E-14</td>\n",
       "      <td>4.08198E-15</td>\n",
       "      <td>8.67603E-14</td>\n",
       "      <td>5.80442E-15</td>\n",
       "      <td>9.04676E-14</td>\n",
       "      <td>1.17866E-14</td>\n",
       "      <td>4.97549E-13</td>\n",
       "      <td>9.51848E-14</td>\n",
       "      <td>53329.0477893499992</td>\n",
       "    </tr>\n",
       "    <tr>\n",
       "      <th>4</th>\n",
       "      <td>http://nxsa.esac.esa.int/nxsa-sl/servlet/data-...</td>\n",
       "      <td>4XMM J100025.3+020734</td>\n",
       "      <td>150.105551358</td>\n",
       "      <td>2.126335073965</td>\n",
       "      <td>4.38794E-14</td>\n",
       "      <td>6.4126E-15</td>\n",
       "      <td>2.68361E-15</td>\n",
       "      <td>4.18159E-16</td>\n",
       "      <td>6.25349E-15</td>\n",
       "      <td>6.66584E-16</td>\n",
       "      <td>9.67995E-15</td>\n",
       "      <td>1.44622E-15</td>\n",
       "      <td>2.30787E-14</td>\n",
       "      <td>6.15458E-15</td>\n",
       "      <td>52983.4904861100003</td>\n",
       "    </tr>\n",
       "    <tr>\n",
       "      <th>...</th>\n",
       "      <td>...</td>\n",
       "      <td>...</td>\n",
       "      <td>...</td>\n",
       "      <td>...</td>\n",
       "      <td>...</td>\n",
       "      <td>...</td>\n",
       "      <td>...</td>\n",
       "      <td>...</td>\n",
       "      <td>...</td>\n",
       "      <td>...</td>\n",
       "      <td>...</td>\n",
       "      <td>...</td>\n",
       "      <td>...</td>\n",
       "      <td>...</td>\n",
       "      <td>...</td>\n",
       "    </tr>\n",
       "    <tr>\n",
       "      <th>549</th>\n",
       "      <td>http://nxsa.esac.esa.int/nxsa-sl/servlet/data-...</td>\n",
       "      <td>4XMM J100000.6+021531</td>\n",
       "      <td>150.0061651529</td>\n",
       "      <td>2.25898277014</td>\n",
       "      <td>1.58341E-13</td>\n",
       "      <td>4.23716E-14</td>\n",
       "      <td>1.49864E-15</td>\n",
       "      <td>1.09178E-15</td>\n",
       "      <td>9.25666E-15</td>\n",
       "      <td>1.84942E-15</td>\n",
       "      <td>2.48216E-14</td>\n",
       "      <td>4.8408E-15</td>\n",
       "      <td>1.16524E-13</td>\n",
       "      <td>4.19977E-14</td>\n",
       "      <td>52983.4904861100003</td>\n",
       "    </tr>\n",
       "    <tr>\n",
       "      <th>550</th>\n",
       "      <td>http://nxsa.esac.esa.int/nxsa-sl/servlet/data-...</td>\n",
       "      <td>4XMM J100010.2+020348</td>\n",
       "      <td>150.0428835283</td>\n",
       "      <td>2.063550895886</td>\n",
       "      <td>2.94877E-14</td>\n",
       "      <td>1.87753E-14</td>\n",
       "      <td>1.37021E-15</td>\n",
       "      <td>7.78112E-16</td>\n",
       "      <td>6.44793E-15</td>\n",
       "      <td>1.60746E-15</td>\n",
       "      <td>6.05876E-15</td>\n",
       "      <td>2.64986E-15</td>\n",
       "      <td>1.09877E-14</td>\n",
       "      <td>1.84091E-14</td>\n",
       "      <td>52984.9551388899999</td>\n",
       "    </tr>\n",
       "    <tr>\n",
       "      <th>551</th>\n",
       "      <td>http://nxsa.esac.esa.int/nxsa-sl/servlet/data-...</td>\n",
       "      <td>4XMM J100051.8+015920</td>\n",
       "      <td>150.2163165016</td>\n",
       "      <td>1.988842640248</td>\n",
       "      <td>4.10785E-14</td>\n",
       "      <td>5.99167E-15</td>\n",
       "      <td>4.0225E-15</td>\n",
       "      <td>4.60143E-16</td>\n",
       "      <td>5.84562E-15</td>\n",
       "      <td>5.93378E-16</td>\n",
       "      <td>7.44096E-15</td>\n",
       "      <td>1.18422E-15</td>\n",
       "      <td>2.01637E-14</td>\n",
       "      <td>5.79325E-15</td>\n",
       "      <td>52983.0935069400002</td>\n",
       "    </tr>\n",
       "    <tr>\n",
       "      <th>552</th>\n",
       "      <td>http://nxsa.esac.esa.int/nxsa-sl/servlet/data-...</td>\n",
       "      <td>4XMM J100053.9+015951</td>\n",
       "      <td>150.2246159366</td>\n",
       "      <td>1.997654321961</td>\n",
       "      <td>1.7171E-15</td>\n",
       "      <td>1.95518E-15</td>\n",
       "      <td>1.79191E-18</td>\n",
       "      <td>5.91212E-17</td>\n",
       "      <td>3.15518E-17</td>\n",
       "      <td>9.06499E-17</td>\n",
       "      <td>1.47472E-16</td>\n",
       "      <td>2.79052E-16</td>\n",
       "      <td>0.0</td>\n",
       "      <td>1.89253E-15</td>\n",
       "      <td>55715.2339814799998</td>\n",
       "    </tr>\n",
       "    <tr>\n",
       "      <th>553</th>\n",
       "      <td>http://nxsa.esac.esa.int/nxsa-sl/servlet/data-...</td>\n",
       "      <td>4XMM J100046.9+020016</td>\n",
       "      <td>150.195460096</td>\n",
       "      <td>2.004521432163</td>\n",
       "      <td>2.33428E-14</td>\n",
       "      <td>3.51763E-15</td>\n",
       "      <td>3.66963E-15</td>\n",
       "      <td>4.26526E-16</td>\n",
       "      <td>4.06075E-15</td>\n",
       "      <td>5.0281E-16</td>\n",
       "      <td>4.73573E-15</td>\n",
       "      <td>9.65662E-16</td>\n",
       "      <td>5.896E-15</td>\n",
       "      <td>3.23776E-15</td>\n",
       "      <td>52983.0935069400002</td>\n",
       "    </tr>\n",
       "  </tbody>\n",
       "</table>\n",
       "<p>554 rows × 15 columns</p>\n",
       "</div>"
      ],
      "text/plain": [
       "                                          postcard_url                   name  \\\n",
       "0    http://nxsa.esac.esa.int/nxsa-sl/servlet/data-...  4XMM J100002.7+021635   \n",
       "1    http://nxsa.esac.esa.int/nxsa-sl/servlet/data-...  4XMM J100020.2+021726   \n",
       "2    http://nxsa.esac.esa.int/nxsa-sl/servlet/data-...  4XMM J100024.2+021003   \n",
       "3    http://nxsa.esac.esa.int/nxsa-sl/servlet/data-...  4XMM J100025.2+015852   \n",
       "4    http://nxsa.esac.esa.int/nxsa-sl/servlet/data-...  4XMM J100025.3+020734   \n",
       "..                                                 ...                    ...   \n",
       "549  http://nxsa.esac.esa.int/nxsa-sl/servlet/data-...  4XMM J100000.6+021531   \n",
       "550  http://nxsa.esac.esa.int/nxsa-sl/servlet/data-...  4XMM J100010.2+020348   \n",
       "551  http://nxsa.esac.esa.int/nxsa-sl/servlet/data-...  4XMM J100051.8+015920   \n",
       "552  http://nxsa.esac.esa.int/nxsa-sl/servlet/data-...  4XMM J100053.9+015951   \n",
       "553  http://nxsa.esac.esa.int/nxsa-sl/servlet/data-...  4XMM J100046.9+020016   \n",
       "\n",
       "                 ra             dec    ep_8_flux ep_8_flux_err    ep_2_flux  \\\n",
       "0    150.0112807904  2.276475167277  1.33832E-14    1.2297E-14  3.02972E-15   \n",
       "1    150.0837473632  2.291077241209  9.74593E-14   6.83029E-14  1.80549E-15   \n",
       "2    150.1011908405  2.168109542254  9.17045E-15    3.1098E-14  1.02688E-15   \n",
       "3    150.1051909102  1.981025748409  7.96351E-13   9.62405E-14  6.38775E-14   \n",
       "4     150.105551358  2.126335073965  4.38794E-14    6.4126E-15  2.68361E-15   \n",
       "..              ...             ...          ...           ...          ...   \n",
       "549  150.0061651529   2.25898277014  1.58341E-13   4.23716E-14  1.49864E-15   \n",
       "550  150.0428835283  2.063550895886  2.94877E-14   1.87753E-14  1.37021E-15   \n",
       "551  150.2163165016  1.988842640248  4.10785E-14   5.99167E-15   4.0225E-15   \n",
       "552  150.2246159366  1.997654321961   1.7171E-15   1.95518E-15  1.79191E-18   \n",
       "553   150.195460096  2.004521432163  2.33428E-14   3.51763E-15  3.66963E-15   \n",
       "\n",
       "    ep_2_flux_err    ep_3_flux ep_3_flux_err    ep_4_flux ep_4_flux_err  \\\n",
       "0     1.01625E-15   3.2435E-15   1.06306E-15  4.13274E-15   2.35396E-15   \n",
       "1     1.00529E-15  3.63801E-15   1.74639E-15  7.52876E-15   5.51109E-15   \n",
       "2     7.45904E-16  3.86987E-15    1.5771E-15  3.02251E-15   3.72394E-15   \n",
       "3     4.08198E-15  8.67603E-14   5.80442E-15  9.04676E-14   1.17866E-14   \n",
       "4     4.18159E-16  6.25349E-15   6.66584E-16  9.67995E-15   1.44622E-15   \n",
       "..            ...          ...           ...          ...           ...   \n",
       "549   1.09178E-15  9.25666E-15   1.84942E-15  2.48216E-14    4.8408E-15   \n",
       "550   7.78112E-16  6.44793E-15   1.60746E-15  6.05876E-15   2.64986E-15   \n",
       "551   4.60143E-16  5.84562E-15   5.93378E-16  7.44096E-15   1.18422E-15   \n",
       "552   5.91212E-17  3.15518E-17   9.06499E-17  1.47472E-16   2.79052E-16   \n",
       "553   4.26526E-16  4.06075E-15    5.0281E-16  4.73573E-15   9.65662E-16   \n",
       "\n",
       "       ep_5_flux ep_5_flux_err            mjd_start  \n",
       "0            0.0   1.19296E-14  55715.2339814799998  \n",
       "1    8.19262E-14   6.80424E-14  53872.7568287000031  \n",
       "2            0.0   3.08175E-14  53699.8381134299998  \n",
       "3    4.97549E-13   9.51848E-14  53329.0477893499992  \n",
       "4    2.30787E-14   6.15458E-15  52983.4904861100003  \n",
       "..           ...           ...                  ...  \n",
       "549  1.16524E-13   4.19977E-14  52983.4904861100003  \n",
       "550  1.09877E-14   1.84091E-14  52984.9551388899999  \n",
       "551  2.01637E-14   5.79325E-15  52983.0935069400002  \n",
       "552          0.0   1.89253E-15  55715.2339814799998  \n",
       "553    5.896E-15   3.23776E-15  52983.0935069400002  \n",
       "\n",
       "[554 rows x 15 columns]"
      ]
     },
     "execution_count": 22,
     "metadata": {},
     "output_type": "execute_result"
    }
   ],
   "source": [
    "# then parse the data with pandas\n",
    "data=esasky.getResultPanelData()\n",
    "xmmepic = pd.DataFrame.from_dict(data).transpose()\n",
    "xmmepic"
   ]
  },
  {
   "cell_type": "code",
   "execution_count": 23,
   "metadata": {},
   "outputs": [
    {
     "name": "stdout",
     "output_type": "stream",
     "text": [
      "Catalogs from missionId: Herschel-HPPSC-100 displayed in the ESASky\n"
     ]
    }
   ],
   "source": [
    "# Plot the Herschel-HPPSC-100 catalogue in ESASky:\n",
    "esasky.plotCatalogues('Herschel-HPPSC-100')"
   ]
  },
  {
   "cell_type": "code",
   "execution_count": 24,
   "metadata": {},
   "outputs": [
    {
     "data": {
      "text/html": [
       "<div>\n",
       "<style scoped>\n",
       "    .dataframe tbody tr th:only-of-type {\n",
       "        vertical-align: middle;\n",
       "    }\n",
       "\n",
       "    .dataframe tbody tr th {\n",
       "        vertical-align: top;\n",
       "    }\n",
       "\n",
       "    .dataframe thead th {\n",
       "        text-align: right;\n",
       "    }\n",
       "</style>\n",
       "<table border=\"1\" class=\"dataframe\">\n",
       "  <thead>\n",
       "    <tr style=\"text-align: right;\">\n",
       "      <th></th>\n",
       "      <th>name</th>\n",
       "      <th>ra</th>\n",
       "      <th>dec</th>\n",
       "      <th>flux</th>\n",
       "      <th>rms</th>\n",
       "      <th>fwhmxfit</th>\n",
       "      <th>fwhmyfit</th>\n",
       "      <th>snr</th>\n",
       "      <th>stn</th>\n",
       "      <th>elong_flag</th>\n",
       "      <th>edge_flag</th>\n",
       "      <th>blend_flag</th>\n",
       "      <th>warmat</th>\n",
       "      <th>ssomap_flag</th>\n",
       "      <th>obsid</th>\n",
       "    </tr>\n",
       "  </thead>\n",
       "  <tbody>\n",
       "    <tr>\n",
       "      <th>0</th>\n",
       "      <td>HPPSC100A_J100029.1+022028</td>\n",
       "      <td>150.121485742354</td>\n",
       "      <td>2.34117695624495</td>\n",
       "      <td>1.994866</td>\n",
       "      <td>0.539128</td>\n",
       "      <td>8.48589978723793</td>\n",
       "      <td>5.81471906321345</td>\n",
       "      <td>1.752753</td>\n",
       "      <td>3.700171</td>\n",
       "      <td>0.68522</td>\n",
       "      <td>true</td>\n",
       "      <td>0</td>\n",
       "      <td>false</td>\n",
       "      <td>false</td>\n",
       "      <td>1342245939</td>\n",
       "    </tr>\n",
       "    <tr>\n",
       "      <th>1</th>\n",
       "      <td>HPPSC100A_J100046.0+023107</td>\n",
       "      <td>150.191760507631</td>\n",
       "      <td>2.51858006552276</td>\n",
       "      <td>2.090976</td>\n",
       "      <td>0.685504</td>\n",
       "      <td>7.25511083825166</td>\n",
       "      <td>-99.9</td>\n",
       "      <td>2.215749</td>\n",
       "      <td>3.050275</td>\n",
       "      <td>0</td>\n",
       "      <td>true</td>\n",
       "      <td>0</td>\n",
       "      <td>false</td>\n",
       "      <td>false</td>\n",
       "      <td>1342245939</td>\n",
       "    </tr>\n",
       "    <tr>\n",
       "      <th>2</th>\n",
       "      <td>HPPSC100A_J100041.8+022608</td>\n",
       "      <td>150.174283439663</td>\n",
       "      <td>2.43561175430237</td>\n",
       "      <td>2.174728</td>\n",
       "      <td>0.660995</td>\n",
       "      <td>8.60922380780221</td>\n",
       "      <td>-99.9</td>\n",
       "      <td>0.59721</td>\n",
       "      <td>3.290082</td>\n",
       "      <td>0</td>\n",
       "      <td>true</td>\n",
       "      <td>0</td>\n",
       "      <td>false</td>\n",
       "      <td>false</td>\n",
       "      <td>1342245939</td>\n",
       "    </tr>\n",
       "    <tr>\n",
       "      <th>3</th>\n",
       "      <td>HPPSC100A_J100042.4+021818</td>\n",
       "      <td>150.177023993468</td>\n",
       "      <td>2.3050843083804</td>\n",
       "      <td>2.21025</td>\n",
       "      <td>0.631988</td>\n",
       "      <td>7.6690494224023</td>\n",
       "      <td>-99.9</td>\n",
       "      <td>1.972822</td>\n",
       "      <td>3.497297</td>\n",
       "      <td>0</td>\n",
       "      <td>true</td>\n",
       "      <td>0</td>\n",
       "      <td>false</td>\n",
       "      <td>false</td>\n",
       "      <td>1342245939</td>\n",
       "    </tr>\n",
       "    <tr>\n",
       "      <th>4</th>\n",
       "      <td>HPPSC100A_J100029.0+021230</td>\n",
       "      <td>150.120860667432</td>\n",
       "      <td>2.20834248077097</td>\n",
       "      <td>2.220718</td>\n",
       "      <td>0.672417</td>\n",
       "      <td>6.53992729356855</td>\n",
       "      <td>-99.9</td>\n",
       "      <td>1.82661</td>\n",
       "      <td>3.302591</td>\n",
       "      <td>0</td>\n",
       "      <td>true</td>\n",
       "      <td>0</td>\n",
       "      <td>false</td>\n",
       "      <td>false</td>\n",
       "      <td>1342245939</td>\n",
       "    </tr>\n",
       "    <tr>\n",
       "      <th>...</th>\n",
       "      <td>...</td>\n",
       "      <td>...</td>\n",
       "      <td>...</td>\n",
       "      <td>...</td>\n",
       "      <td>...</td>\n",
       "      <td>...</td>\n",
       "      <td>...</td>\n",
       "      <td>...</td>\n",
       "      <td>...</td>\n",
       "      <td>...</td>\n",
       "      <td>...</td>\n",
       "      <td>...</td>\n",
       "      <td>...</td>\n",
       "      <td>...</td>\n",
       "      <td>...</td>\n",
       "    </tr>\n",
       "    <tr>\n",
       "      <th>954</th>\n",
       "      <td>HPPSC100A_J100115.4+022859</td>\n",
       "      <td>150.314163481779</td>\n",
       "      <td>2.48309093209352</td>\n",
       "      <td>103.11511</td>\n",
       "      <td>3.246988</td>\n",
       "      <td>8.52092638618703</td>\n",
       "      <td>6.9059461356766</td>\n",
       "      <td>25.441289</td>\n",
       "      <td>31.757158</td>\n",
       "      <td>0.81047</td>\n",
       "      <td>true</td>\n",
       "      <td>0</td>\n",
       "      <td>false</td>\n",
       "      <td>false</td>\n",
       "      <td>1342186610</td>\n",
       "    </tr>\n",
       "    <tr>\n",
       "      <th>955</th>\n",
       "      <td>HPPSC100A_J100100.5+021642</td>\n",
       "      <td>150.252430057752</td>\n",
       "      <td>2.27829250932584</td>\n",
       "      <td>104.469631</td>\n",
       "      <td>4.263271</td>\n",
       "      <td>7.42263062173771</td>\n",
       "      <td>7.14461688228784</td>\n",
       "      <td>21.293009</td>\n",
       "      <td>24.504572</td>\n",
       "      <td>0.96255</td>\n",
       "      <td>true</td>\n",
       "      <td>0</td>\n",
       "      <td>false</td>\n",
       "      <td>false</td>\n",
       "      <td>1342186610</td>\n",
       "    </tr>\n",
       "    <tr>\n",
       "      <th>956</th>\n",
       "      <td>HPPSC100A_J100103.6+015534</td>\n",
       "      <td>150.265164275307</td>\n",
       "      <td>1.92608927038454</td>\n",
       "      <td>123.796375</td>\n",
       "      <td>3.674191</td>\n",
       "      <td>7.48583227644506</td>\n",
       "      <td>7.05385279064055</td>\n",
       "      <td>27.991392</td>\n",
       "      <td>33.693506</td>\n",
       "      <td>0.94229</td>\n",
       "      <td>true</td>\n",
       "      <td>0</td>\n",
       "      <td>false</td>\n",
       "      <td>false</td>\n",
       "      <td>1342186610</td>\n",
       "    </tr>\n",
       "    <tr>\n",
       "      <th>957</th>\n",
       "      <td>HPPSC100A_J100028.5+022726</td>\n",
       "      <td>150.11889118825</td>\n",
       "      <td>2.45712061268821</td>\n",
       "      <td>156.986362</td>\n",
       "      <td>3.073496</td>\n",
       "      <td>7.18869350671791</td>\n",
       "      <td>6.63269409184572</td>\n",
       "      <td>82.577882</td>\n",
       "      <td>51.077458</td>\n",
       "      <td>0.92266</td>\n",
       "      <td>true</td>\n",
       "      <td>0</td>\n",
       "      <td>false</td>\n",
       "      <td>false</td>\n",
       "      <td>1342245939</td>\n",
       "    </tr>\n",
       "    <tr>\n",
       "      <th>958</th>\n",
       "      <td>HPPSC100A_J100013.5+021230</td>\n",
       "      <td>150.056472532141</td>\n",
       "      <td>2.20837051226366</td>\n",
       "      <td>161.794227</td>\n",
       "      <td>4.177581</td>\n",
       "      <td>6.90779622633387</td>\n",
       "      <td>6.44946862853587</td>\n",
       "      <td>30.606753</td>\n",
       "      <td>38.729166</td>\n",
       "      <td>0.93365</td>\n",
       "      <td>true</td>\n",
       "      <td>0</td>\n",
       "      <td>false</td>\n",
       "      <td>false</td>\n",
       "      <td>1342245939</td>\n",
       "    </tr>\n",
       "  </tbody>\n",
       "</table>\n",
       "<p>959 rows × 15 columns</p>\n",
       "</div>"
      ],
      "text/plain": [
       "                           name                ra               dec  \\\n",
       "0    HPPSC100A_J100029.1+022028  150.121485742354  2.34117695624495   \n",
       "1    HPPSC100A_J100046.0+023107  150.191760507631  2.51858006552276   \n",
       "2    HPPSC100A_J100041.8+022608  150.174283439663  2.43561175430237   \n",
       "3    HPPSC100A_J100042.4+021818  150.177023993468   2.3050843083804   \n",
       "4    HPPSC100A_J100029.0+021230  150.120860667432  2.20834248077097   \n",
       "..                          ...               ...               ...   \n",
       "954  HPPSC100A_J100115.4+022859  150.314163481779  2.48309093209352   \n",
       "955  HPPSC100A_J100100.5+021642  150.252430057752  2.27829250932584   \n",
       "956  HPPSC100A_J100103.6+015534  150.265164275307  1.92608927038454   \n",
       "957  HPPSC100A_J100028.5+022726   150.11889118825  2.45712061268821   \n",
       "958  HPPSC100A_J100013.5+021230  150.056472532141  2.20837051226366   \n",
       "\n",
       "           flux       rms          fwhmxfit          fwhmyfit        snr  \\\n",
       "0      1.994866  0.539128  8.48589978723793  5.81471906321345   1.752753   \n",
       "1      2.090976  0.685504  7.25511083825166             -99.9   2.215749   \n",
       "2      2.174728  0.660995  8.60922380780221             -99.9    0.59721   \n",
       "3       2.21025  0.631988   7.6690494224023             -99.9   1.972822   \n",
       "4      2.220718  0.672417  6.53992729356855             -99.9    1.82661   \n",
       "..          ...       ...               ...               ...        ...   \n",
       "954   103.11511  3.246988  8.52092638618703   6.9059461356766  25.441289   \n",
       "955  104.469631  4.263271  7.42263062173771  7.14461688228784  21.293009   \n",
       "956  123.796375  3.674191  7.48583227644506  7.05385279064055  27.991392   \n",
       "957  156.986362  3.073496  7.18869350671791  6.63269409184572  82.577882   \n",
       "958  161.794227  4.177581  6.90779622633387  6.44946862853587  30.606753   \n",
       "\n",
       "           stn elong_flag edge_flag blend_flag warmat ssomap_flag       obsid  \n",
       "0     3.700171    0.68522      true          0  false       false  1342245939  \n",
       "1     3.050275          0      true          0  false       false  1342245939  \n",
       "2     3.290082          0      true          0  false       false  1342245939  \n",
       "3     3.497297          0      true          0  false       false  1342245939  \n",
       "4     3.302591          0      true          0  false       false  1342245939  \n",
       "..         ...        ...       ...        ...    ...         ...         ...  \n",
       "954  31.757158    0.81047      true          0  false       false  1342186610  \n",
       "955  24.504572    0.96255      true          0  false       false  1342186610  \n",
       "956  33.693506    0.94229      true          0  false       false  1342186610  \n",
       "957  51.077458    0.92266      true          0  false       false  1342245939  \n",
       "958  38.729166    0.93365      true          0  false       false  1342245939  \n",
       "\n",
       "[959 rows x 15 columns]"
      ]
     },
     "execution_count": 24,
     "metadata": {},
     "output_type": "execute_result"
    }
   ],
   "source": [
    "# then parse the data with pandas\n",
    "data=esasky.getResultPanelData()\n",
    "HPPSC100 = pd.DataFrame.from_dict(data).transpose()\n",
    "HPPSC100"
   ]
  },
  {
   "cell_type": "markdown",
   "metadata": {},
   "source": [
    "### Download and check the postcard of an observation from Chandra in the current FoV"
   ]
  },
  {
   "cell_type": "code",
   "execution_count": 25,
   "metadata": {},
   "outputs": [
    {
     "name": "stdout",
     "output_type": "stream",
     "text": [
      "Image observations from missionId: Chandra displayed in the ESASky\n"
     ]
    }
   ],
   "source": [
    "\n",
    "# Firstly, plot the Chandra imaging observations in ESASky\n",
    "esasky.plotObservations('Chandra')"
   ]
  },
  {
   "cell_type": "code",
   "execution_count": 26,
   "metadata": {
    "scrolled": true
   },
   "outputs": [
    {
     "data": {
      "text/html": [
       "<div>\n",
       "<style scoped>\n",
       "    .dataframe tbody tr th:only-of-type {\n",
       "        vertical-align: middle;\n",
       "    }\n",
       "\n",
       "    .dataframe tbody tr th {\n",
       "        vertical-align: top;\n",
       "    }\n",
       "\n",
       "    .dataframe thead th {\n",
       "        text-align: right;\n",
       "    }\n",
       "</style>\n",
       "<table border=\"1\" class=\"dataframe\">\n",
       "  <thead>\n",
       "    <tr style=\"text-align: right;\">\n",
       "      <th></th>\n",
       "      <th>postcard_url</th>\n",
       "      <th>product_url</th>\n",
       "      <th>observation_id</th>\n",
       "      <th>instrument_name</th>\n",
       "      <th>target_name</th>\n",
       "      <th>ra_deg</th>\n",
       "      <th>dec_deg</th>\n",
       "      <th>t_min</th>\n",
       "      <th>duration</th>\n",
       "      <th>stc_s</th>\n",
       "    </tr>\n",
       "  </thead>\n",
       "  <tbody>\n",
       "    <tr>\n",
       "      <th>0</th>\n",
       "      <td>https://cdaftp.cfa.harvard.edu/cgi-bin/chaser_...</td>\n",
       "      <td>https://cdaftp.cfa.harvard.edu/cgi-bin/chaser_...</td>\n",
       "      <td>8002</td>\n",
       "      <td>ACIS</td>\n",
       "      <td>C-COSMOS2-4</td>\n",
       "      <td>150.0905239771756</td>\n",
       "      <td>2.391449670380557</td>\n",
       "      <td>54088.206745587384</td>\n",
       "      <td>29645.316828725</td>\n",
       "      <td>POLYGON J2000 150.159255943409107 2.518523498...</td>\n",
       "    </tr>\n",
       "    <tr>\n",
       "      <th>1</th>\n",
       "      <td>https://cdaftp.cfa.harvard.edu/cgi-bin/chaser_...</td>\n",
       "      <td>https://cdaftp.cfa.harvard.edu/cgi-bin/chaser_...</td>\n",
       "      <td>8555</td>\n",
       "      <td>ACIS</td>\n",
       "      <td>C-COSMOS6-1</td>\n",
       "      <td>150.2802574550359</td>\n",
       "      <td>1.742299676078053</td>\n",
       "      <td>54232.670982055206</td>\n",
       "      <td>16592.599449151</td>\n",
       "      <td>POLYGON J2000 150.225341773783299 1.608391316...</td>\n",
       "    </tr>\n",
       "    <tr>\n",
       "      <th>2</th>\n",
       "      <td>https://cdaftp.cfa.harvard.edu/cgi-bin/chaser_...</td>\n",
       "      <td>https://cdaftp.cfa.harvard.edu/cgi-bin/chaser_...</td>\n",
       "      <td>15227</td>\n",
       "      <td>ACIS</td>\n",
       "      <td>COSMOS Legacy</td>\n",
       "      <td>150.463753334451</td>\n",
       "      <td>1.829216630584969</td>\n",
       "      <td>56414.05973058588</td>\n",
       "      <td>53051.252109738</td>\n",
       "      <td>POLYGON J2000 150.405824512454188 1.698455608...</td>\n",
       "    </tr>\n",
       "    <tr>\n",
       "      <th>3</th>\n",
       "      <td>https://cdaftp.cfa.harvard.edu/cgi-bin/chaser_...</td>\n",
       "      <td>https://cdaftp.cfa.harvard.edu/cgi-bin/chaser_...</td>\n",
       "      <td>8549</td>\n",
       "      <td>ACIS</td>\n",
       "      <td>C-COSMOS3-2</td>\n",
       "      <td>150.2923650790093</td>\n",
       "      <td>2.16372609493127</td>\n",
       "      <td>54225.72021826863</td>\n",
       "      <td>17813.146331152</td>\n",
       "      <td>POLYGON J2000 150.246311630904586 2.025985694...</td>\n",
       "    </tr>\n",
       "    <tr>\n",
       "      <th>4</th>\n",
       "      <td>https://cdaftp.cfa.harvard.edu/cgi-bin/chaser_...</td>\n",
       "      <td>https://cdaftp.cfa.harvard.edu/cgi-bin/chaser_...</td>\n",
       "      <td>8493</td>\n",
       "      <td>ACIS</td>\n",
       "      <td>C-COSMOS1-5</td>\n",
       "      <td>150.0107808739659</td>\n",
       "      <td>2.56231849081099</td>\n",
       "      <td>54081.75538460498</td>\n",
       "      <td>19775.142739533</td>\n",
       "      <td>POLYGON J2000 150.076541009376314 2.691432002...</td>\n",
       "    </tr>\n",
       "    <tr>\n",
       "      <th>...</th>\n",
       "      <td>...</td>\n",
       "      <td>...</td>\n",
       "      <td>...</td>\n",
       "      <td>...</td>\n",
       "      <td>...</td>\n",
       "      <td>...</td>\n",
       "      <td>...</td>\n",
       "      <td>...</td>\n",
       "      <td>...</td>\n",
       "      <td>...</td>\n",
       "    </tr>\n",
       "    <tr>\n",
       "      <th>59</th>\n",
       "      <td>https://cdaftp.cfa.harvard.edu/cgi-bin/chaser_...</td>\n",
       "      <td>https://cdaftp.cfa.harvard.edu/cgi-bin/chaser_...</td>\n",
       "      <td>7995</td>\n",
       "      <td>ACIS</td>\n",
       "      <td>C-COSMOS1-1</td>\n",
       "      <td>150.5079288612135</td>\n",
       "      <td>2.368727364352157</td>\n",
       "      <td>54252.15358744178</td>\n",
       "      <td>46071.532422905</td>\n",
       "      <td>POLYGON J2000 150.446393558595389 2.237713243...</td>\n",
       "    </tr>\n",
       "    <tr>\n",
       "      <th>60</th>\n",
       "      <td>https://cdaftp.cfa.harvard.edu/cgi-bin/chaser_...</td>\n",
       "      <td>https://cdaftp.cfa.harvard.edu/cgi-bin/chaser_...</td>\n",
       "      <td>8013</td>\n",
       "      <td>ACIS</td>\n",
       "      <td>C-COSMOS4-4</td>\n",
       "      <td>149.999440817847</td>\n",
       "      <td>2.140586946752111</td>\n",
       "      <td>54104.82269038483</td>\n",
       "      <td>48115.634791745004</td>\n",
       "      <td>POLYGON J2000 150.076512317526806 2.261494992...</td>\n",
       "    </tr>\n",
       "    <tr>\n",
       "      <th>61</th>\n",
       "      <td>https://cdaftp.cfa.harvard.edu/cgi-bin/chaser_...</td>\n",
       "      <td>https://cdaftp.cfa.harvard.edu/cgi-bin/chaser_...</td>\n",
       "      <td>8494</td>\n",
       "      <td>ACIS</td>\n",
       "      <td>C-COSMOS1-4</td>\n",
       "      <td>150.1360569486736</td>\n",
       "      <td>2.516777994029391</td>\n",
       "      <td>54085.5566993103</td>\n",
       "      <td>20767.259814581</td>\n",
       "      <td>POLYGON J2000 150.201790390474088 2.646248131...</td>\n",
       "    </tr>\n",
       "    <tr>\n",
       "      <th>62</th>\n",
       "      <td>https://cdaftp.cfa.harvard.edu/cgi-bin/chaser_...</td>\n",
       "      <td>https://cdaftp.cfa.harvard.edu/cgi-bin/chaser_...</td>\n",
       "      <td>12810</td>\n",
       "      <td>HRC</td>\n",
       "      <td>CID-42</td>\n",
       "      <td>150.1833682771542</td>\n",
       "      <td>2.112489091132388</td>\n",
       "      <td>55585.23242048391</td>\n",
       "      <td>79298.884758383</td>\n",
       "      <td>POLYGON J2000 149.886329074733595 2.333829937...</td>\n",
       "    </tr>\n",
       "    <tr>\n",
       "      <th>63</th>\n",
       "      <td>https://cdaftp.cfa.harvard.edu/cgi-bin/chaser_...</td>\n",
       "      <td>https://cdaftp.cfa.harvard.edu/cgi-bin/chaser_...</td>\n",
       "      <td>8024</td>\n",
       "      <td>ACIS</td>\n",
       "      <td>C-COSMOS6-3</td>\n",
       "      <td>150.0302223303138</td>\n",
       "      <td>1.833441285158652</td>\n",
       "      <td>54201.9028117507</td>\n",
       "      <td>49401.583514794</td>\n",
       "      <td>POLYGON J2000 149.984124685179694 1.695750694...</td>\n",
       "    </tr>\n",
       "  </tbody>\n",
       "</table>\n",
       "<p>64 rows × 10 columns</p>\n",
       "</div>"
      ],
      "text/plain": [
       "                                         postcard_url  \\\n",
       "0   https://cdaftp.cfa.harvard.edu/cgi-bin/chaser_...   \n",
       "1   https://cdaftp.cfa.harvard.edu/cgi-bin/chaser_...   \n",
       "2   https://cdaftp.cfa.harvard.edu/cgi-bin/chaser_...   \n",
       "3   https://cdaftp.cfa.harvard.edu/cgi-bin/chaser_...   \n",
       "4   https://cdaftp.cfa.harvard.edu/cgi-bin/chaser_...   \n",
       "..                                                ...   \n",
       "59  https://cdaftp.cfa.harvard.edu/cgi-bin/chaser_...   \n",
       "60  https://cdaftp.cfa.harvard.edu/cgi-bin/chaser_...   \n",
       "61  https://cdaftp.cfa.harvard.edu/cgi-bin/chaser_...   \n",
       "62  https://cdaftp.cfa.harvard.edu/cgi-bin/chaser_...   \n",
       "63  https://cdaftp.cfa.harvard.edu/cgi-bin/chaser_...   \n",
       "\n",
       "                                          product_url observation_id  \\\n",
       "0   https://cdaftp.cfa.harvard.edu/cgi-bin/chaser_...           8002   \n",
       "1   https://cdaftp.cfa.harvard.edu/cgi-bin/chaser_...           8555   \n",
       "2   https://cdaftp.cfa.harvard.edu/cgi-bin/chaser_...          15227   \n",
       "3   https://cdaftp.cfa.harvard.edu/cgi-bin/chaser_...           8549   \n",
       "4   https://cdaftp.cfa.harvard.edu/cgi-bin/chaser_...           8493   \n",
       "..                                                ...            ...   \n",
       "59  https://cdaftp.cfa.harvard.edu/cgi-bin/chaser_...           7995   \n",
       "60  https://cdaftp.cfa.harvard.edu/cgi-bin/chaser_...           8013   \n",
       "61  https://cdaftp.cfa.harvard.edu/cgi-bin/chaser_...           8494   \n",
       "62  https://cdaftp.cfa.harvard.edu/cgi-bin/chaser_...          12810   \n",
       "63  https://cdaftp.cfa.harvard.edu/cgi-bin/chaser_...           8024   \n",
       "\n",
       "   instrument_name    target_name             ra_deg            dec_deg  \\\n",
       "0             ACIS    C-COSMOS2-4  150.0905239771756  2.391449670380557   \n",
       "1             ACIS    C-COSMOS6-1  150.2802574550359  1.742299676078053   \n",
       "2             ACIS  COSMOS Legacy   150.463753334451  1.829216630584969   \n",
       "3             ACIS    C-COSMOS3-2  150.2923650790093   2.16372609493127   \n",
       "4             ACIS    C-COSMOS1-5  150.0107808739659   2.56231849081099   \n",
       "..             ...            ...                ...                ...   \n",
       "59            ACIS    C-COSMOS1-1  150.5079288612135  2.368727364352157   \n",
       "60            ACIS    C-COSMOS4-4   149.999440817847  2.140586946752111   \n",
       "61            ACIS    C-COSMOS1-4  150.1360569486736  2.516777994029391   \n",
       "62             HRC         CID-42  150.1833682771542  2.112489091132388   \n",
       "63            ACIS    C-COSMOS6-3  150.0302223303138  1.833441285158652   \n",
       "\n",
       "                 t_min            duration  \\\n",
       "0   54088.206745587384     29645.316828725   \n",
       "1   54232.670982055206     16592.599449151   \n",
       "2    56414.05973058588     53051.252109738   \n",
       "3    54225.72021826863     17813.146331152   \n",
       "4    54081.75538460498     19775.142739533   \n",
       "..                 ...                 ...   \n",
       "59   54252.15358744178     46071.532422905   \n",
       "60   54104.82269038483  48115.634791745004   \n",
       "61    54085.5566993103     20767.259814581   \n",
       "62   55585.23242048391     79298.884758383   \n",
       "63    54201.9028117507     49401.583514794   \n",
       "\n",
       "                                                stc_s  \n",
       "0    POLYGON J2000 150.159255943409107 2.518523498...  \n",
       "1    POLYGON J2000 150.225341773783299 1.608391316...  \n",
       "2    POLYGON J2000 150.405824512454188 1.698455608...  \n",
       "3    POLYGON J2000 150.246311630904586 2.025985694...  \n",
       "4    POLYGON J2000 150.076541009376314 2.691432002...  \n",
       "..                                                ...  \n",
       "59   POLYGON J2000 150.446393558595389 2.237713243...  \n",
       "60   POLYGON J2000 150.076512317526806 2.261494992...  \n",
       "61   POLYGON J2000 150.201790390474088 2.646248131...  \n",
       "62   POLYGON J2000 149.886329074733595 2.333829937...  \n",
       "63   POLYGON J2000 149.984124685179694 1.695750694...  \n",
       "\n",
       "[64 rows x 10 columns]"
      ]
     },
     "execution_count": 26,
     "metadata": {},
     "output_type": "execute_result"
    }
   ],
   "source": [
    "data=esasky.getResultPanelData()\n",
    "chandra = pd.DataFrame.from_dict(data).transpose()\n",
    "chandra"
   ]
  },
  {
   "cell_type": "code",
   "execution_count": 27,
   "metadata": {},
   "outputs": [
    {
     "data": {
      "image/jpeg": "[encoded data removed]",
      "text/plain": [
       "<IPython.core.display.Image object>"
      ]
     },
     "execution_count": 27,
     "metadata": {},
     "output_type": "execute_result"
    }
   ],
   "source": [
    "# plot one of the Chandra observation postcards:\n",
    "from IPython.display import Image\n",
    "Image(chandra.iloc[5]['postcard_url'])"
   ]
  },
  {
   "cell_type": "code",
   "execution_count": 28,
   "metadata": {},
   "outputs": [],
   "source": [
    "esasky.closeAllResultPanelTabs()"
   ]
  },
  {
   "cell_type": "markdown",
   "metadata": {},
   "source": [
    "### Conesearch "
   ]
  },
  {
   "cell_type": "code",
   "execution_count": 34,
   "metadata": {},
   "outputs": [],
   "source": [
    "esasky.goToRADec('15 0 0', '-59')\n",
    "esasky.setFoV(5)"
   ]
  },
  {
   "cell_type": "code",
   "execution_count": 20,
   "metadata": {},
   "outputs": [
    {
     "data": {
      "text/plain": [
       "\u001b[0;31mSignature:\u001b[0m \u001b[0mesasky\u001b[0m\u001b[0;34m.\u001b[0m\u001b[0mconeSearchCatalogues\u001b[0m\u001b[0;34m(\u001b[0m\u001b[0mmissionId\u001b[0m\u001b[0;34m,\u001b[0m \u001b[0mra\u001b[0m\u001b[0;34m,\u001b[0m \u001b[0mdec\u001b[0m\u001b[0;34m,\u001b[0m \u001b[0mradius\u001b[0m\u001b[0;34m)\u001b[0m\u001b[0;34m\u001b[0m\u001b[0;34m\u001b[0m\u001b[0m\n",
       "\u001b[0;31mDocstring:\u001b[0m\n",
       "Overlays availabe catalogues within the specified cone for the specified mission on the sky\n",
       " \n",
       " Arguments:\n",
       "ra -- float or string in decimal format\n",
       "dec -- float or string in decimal format\n",
       "radius -- float or string in decimal degrees\n",
       "\u001b[0;31mFile:\u001b[0m      ~/anaconda3/lib/python3.7/site-packages/pyesasky/pyesasky.py\n",
       "\u001b[0;31mType:\u001b[0m      method\n"
      ]
     },
     "metadata": {},
     "output_type": "display_data"
    }
   ],
   "source": [
    "?esasky.coneSearchCatalogues"
   ]
  },
  {
   "cell_type": "code",
   "execution_count": 30,
   "metadata": {},
   "outputs": [
    {
     "name": "stdout",
     "output_type": "stream",
     "text": [
      "Catalogs from missionId: Herschel-HPPSC-160 displayed in the ESASky\n"
     ]
    }
   ],
   "source": [
    "esasky.coneSearchCatalogues('Herschel-HPPSC-160', '225.0', '-59', 1 )"
   ]
  },
  {
   "cell_type": "code",
   "execution_count": 31,
   "metadata": {},
   "outputs": [
    {
     "name": "stdout",
     "output_type": "stream",
     "text": [
      "Image observations from missionId: Chandra displayed in the ESASky\n"
     ]
    }
   ],
   "source": [
    "esasky.coneSearchObservations('Chandra', '225.0', '-59', 1 )"
   ]
  },
  {
   "cell_type": "code",
   "execution_count": 32,
   "metadata": {},
   "outputs": [
    {
     "name": "stdout",
     "output_type": "stream",
     "text": [
      "Catalogs from missionId: ISO(IR) displayed in the ESASky\n"
     ]
    }
   ],
   "source": [
    "esasky.coneSearchSpectra('ISO(IR)', '225.0', '-59', 1 )"
   ]
  },
  {
   "cell_type": "code",
   "execution_count": 24,
   "metadata": {},
   "outputs": [],
   "source": [
    "esasky.closeAllResultPanelTabs()"
   ]
  },
  {
   "cell_type": "markdown",
   "metadata": {},
   "source": [
    "### Download data from XMM-Newton in the current FoV"
   ]
  },
  {
   "cell_type": "code",
   "execution_count": 35,
   "metadata": {},
   "outputs": [
    {
     "name": "stdout",
     "output_type": "stream",
     "text": [
      "Image observations from missionId: XMM displayed in the ESASky\n"
     ]
    }
   ],
   "source": [
    "# Plot the XMM-Newton imaging observations in ESASky\n",
    "esasky.plotObservations('XMM')"
   ]
  },
  {
   "cell_type": "code",
   "execution_count": 36,
   "metadata": {
    "scrolled": true
   },
   "outputs": [
    {
     "data": {
      "text/html": [
       "<div>\n",
       "<style scoped>\n",
       "    .dataframe tbody tr th:only-of-type {\n",
       "        vertical-align: middle;\n",
       "    }\n",
       "\n",
       "    .dataframe tbody tr th {\n",
       "        vertical-align: top;\n",
       "    }\n",
       "\n",
       "    .dataframe thead th {\n",
       "        text-align: right;\n",
       "    }\n",
       "</style>\n",
       "<table border=\"1\" class=\"dataframe\">\n",
       "  <thead>\n",
       "    <tr style=\"text-align: right;\">\n",
       "      <th></th>\n",
       "      <th>postcard_url</th>\n",
       "      <th>product_url</th>\n",
       "      <th>observation_id</th>\n",
       "      <th>ra_deg</th>\n",
       "      <th>dec_deg</th>\n",
       "      <th>target_name</th>\n",
       "      <th>instrument</th>\n",
       "      <th>start_time</th>\n",
       "      <th>duration</th>\n",
       "      <th>stc_s</th>\n",
       "    </tr>\n",
       "  </thead>\n",
       "  <tbody>\n",
       "    <tr>\n",
       "      <th>0</th>\n",
       "      <td>http://nxsa.esac.esa.int/nxsa-sl/servlet/data-...</td>\n",
       "      <td>http://nxsa.esac.esa.int/nxsa-sl/servlet/data-...</td>\n",
       "      <td>0655020201</td>\n",
       "      <td>224.87415</td>\n",
       "      <td>-60.937</td>\n",
       "      <td>J1459-60</td>\n",
       "      <td>EPIC</td>\n",
       "      <td>2011-02-28 12:57:24.0</td>\n",
       "      <td>44020</td>\n",
       "      <td>POLYGON J2000 224.889571970409 -61.1718366496...</td>\n",
       "    </tr>\n",
       "    <tr>\n",
       "      <th>1</th>\n",
       "      <td>http://nxsa.esac.esa.int/nxsa-sl/servlet/data-...</td>\n",
       "      <td>http://nxsa.esac.esa.int/nxsa-sl/servlet/data-...</td>\n",
       "      <td>0400910201</td>\n",
       "      <td>224.4975</td>\n",
       "      <td>-58.43219</td>\n",
       "      <td>G318.9+0.4</td>\n",
       "      <td>EPIC</td>\n",
       "      <td>2006-08-13 12:25:52.0</td>\n",
       "      <td>11921</td>\n",
       "      <td>POLYGON J2000 224.519011892269 -58.6867557197...</td>\n",
       "    </tr>\n",
       "    <tr>\n",
       "      <th>2</th>\n",
       "      <td>http://nxsa.esac.esa.int/nxsa-sl/servlet/data-...</td>\n",
       "      <td>http://nxsa.esac.esa.int/nxsa-sl/servlet/data-...</td>\n",
       "      <td>0500630301</td>\n",
       "      <td>227.33083200000002</td>\n",
       "      <td>-58.889694</td>\n",
       "      <td>PSR J1509-5850</td>\n",
       "      <td>EPIC</td>\n",
       "      <td>2008-03-01 21:16:43.0</td>\n",
       "      <td>49814</td>\n",
       "      <td>POLYGON J2000 227.318598669036 -59.1372269238...</td>\n",
       "    </tr>\n",
       "    <tr>\n",
       "      <th>3</th>\n",
       "      <td>http://nxsa.esac.esa.int/nxsa-sl/servlet/data-...</td>\n",
       "      <td>http://nxsa.esac.esa.int/nxsa-sl/servlet/data-...</td>\n",
       "      <td>0503320101</td>\n",
       "      <td>224.022</td>\n",
       "      <td>-59.23</td>\n",
       "      <td>AX J145605-5913</td>\n",
       "      <td>EPIC</td>\n",
       "      <td>2007-07-30 07:24:42.0</td>\n",
       "      <td>6918</td>\n",
       "      <td>POLYGON J2000 224.118929488623 -59.4781797405...</td>\n",
       "    </tr>\n",
       "    <tr>\n",
       "      <th>4</th>\n",
       "      <td>http://nxsa.esac.esa.int/nxsa-sl/servlet/data-...</td>\n",
       "      <td>http://nxsa.esac.esa.int/nxsa-sl/servlet/data-...</td>\n",
       "      <td>0500630101</td>\n",
       "      <td>227.33083200000002</td>\n",
       "      <td>-58.889694</td>\n",
       "      <td>PSR J1509-5850</td>\n",
       "      <td>EPIC</td>\n",
       "      <td>2008-01-28 06:46:15.0</td>\n",
       "      <td>79949</td>\n",
       "      <td>POLYGON J2000 227.461385545306 -59.1293851344...</td>\n",
       "    </tr>\n",
       "    <tr>\n",
       "      <th>5</th>\n",
       "      <td>http://nxsa.esac.esa.int/nxsa-sl/servlet/data-...</td>\n",
       "      <td>http://nxsa.esac.esa.int/nxsa-sl/servlet/data-...</td>\n",
       "      <td>0511010501</td>\n",
       "      <td>223.2054</td>\n",
       "      <td>-59.82167</td>\n",
       "      <td>SAX J1452.8-5949</td>\n",
       "      <td>EPIC</td>\n",
       "      <td>2008-02-07 13:46:24.0</td>\n",
       "      <td>6915</td>\n",
       "      <td>POLYGON J2000 223.291010287531 -60.0657422272...</td>\n",
       "    </tr>\n",
       "  </tbody>\n",
       "</table>\n",
       "</div>"
      ],
      "text/plain": [
       "                                        postcard_url  \\\n",
       "0  http://nxsa.esac.esa.int/nxsa-sl/servlet/data-...   \n",
       "1  http://nxsa.esac.esa.int/nxsa-sl/servlet/data-...   \n",
       "2  http://nxsa.esac.esa.int/nxsa-sl/servlet/data-...   \n",
       "3  http://nxsa.esac.esa.int/nxsa-sl/servlet/data-...   \n",
       "4  http://nxsa.esac.esa.int/nxsa-sl/servlet/data-...   \n",
       "5  http://nxsa.esac.esa.int/nxsa-sl/servlet/data-...   \n",
       "\n",
       "                                         product_url observation_id  \\\n",
       "0  http://nxsa.esac.esa.int/nxsa-sl/servlet/data-...     0655020201   \n",
       "1  http://nxsa.esac.esa.int/nxsa-sl/servlet/data-...     0400910201   \n",
       "2  http://nxsa.esac.esa.int/nxsa-sl/servlet/data-...     0500630301   \n",
       "3  http://nxsa.esac.esa.int/nxsa-sl/servlet/data-...     0503320101   \n",
       "4  http://nxsa.esac.esa.int/nxsa-sl/servlet/data-...     0500630101   \n",
       "5  http://nxsa.esac.esa.int/nxsa-sl/servlet/data-...     0511010501   \n",
       "\n",
       "               ra_deg     dec_deg       target_name instrument  \\\n",
       "0           224.87415     -60.937          J1459-60       EPIC   \n",
       "1            224.4975   -58.43219        G318.9+0.4       EPIC   \n",
       "2  227.33083200000002  -58.889694    PSR J1509-5850       EPIC   \n",
       "3             224.022      -59.23   AX J145605-5913       EPIC   \n",
       "4  227.33083200000002  -58.889694    PSR J1509-5850       EPIC   \n",
       "5            223.2054   -59.82167  SAX J1452.8-5949       EPIC   \n",
       "\n",
       "              start_time duration  \\\n",
       "0  2011-02-28 12:57:24.0    44020   \n",
       "1  2006-08-13 12:25:52.0    11921   \n",
       "2  2008-03-01 21:16:43.0    49814   \n",
       "3  2007-07-30 07:24:42.0     6918   \n",
       "4  2008-01-28 06:46:15.0    79949   \n",
       "5  2008-02-07 13:46:24.0     6915   \n",
       "\n",
       "                                               stc_s  \n",
       "0   POLYGON J2000 224.889571970409 -61.1718366496...  \n",
       "1   POLYGON J2000 224.519011892269 -58.6867557197...  \n",
       "2   POLYGON J2000 227.318598669036 -59.1372269238...  \n",
       "3   POLYGON J2000 224.118929488623 -59.4781797405...  \n",
       "4   POLYGON J2000 227.461385545306 -59.1293851344...  \n",
       "5   POLYGON J2000 223.291010287531 -60.0657422272...  "
      ]
     },
     "execution_count": 36,
     "metadata": {},
     "output_type": "execute_result"
    }
   ],
   "source": [
    "data=esasky.getResultPanelData()\n",
    "xmm_newton = pd.DataFrame.from_dict(data).transpose()\n",
    "xmm_newton"
   ]
  },
  {
   "cell_type": "markdown",
   "metadata": {},
   "source": [
    "### Display and get data from external TAPs (Table Access Protocol) "
   ]
  },
  {
   "cell_type": "code",
   "execution_count": 38,
   "metadata": {},
   "outputs": [],
   "source": [
    "esasky.goToRADec('150.11917', '+02.20583') #COSMOS Field\n",
    "esasky.setFoV(0.5)"
   ]
  },
  {
   "cell_type": "code",
   "execution_count": 39,
   "metadata": {},
   "outputs": [
    {
     "data": {
      "text/plain": [
       "['ESO', 'CADC', 'MAST']"
      ]
     },
     "execution_count": 39,
     "metadata": {},
     "output_type": "execute_result"
    }
   ],
   "source": [
    "# View the available predefined external TAP services in ESASky,\n",
    "# e.g. European Southern Observatory (ESO), MAST (STScI), Canadian \n",
    "# Astronomical Data Centre (CADC)\n",
    "esasky.getAvailableTapServices()"
   ]
  },
  {
   "cell_type": "code",
   "execution_count": 40,
   "metadata": {
    "scrolled": true
   },
   "outputs": [
    {
     "data": {
      "text/plain": [
       "{'ESO': {'ESO-Images': ['ESO-Images-APEX-12m',\n",
       "   'ESO-Images-ESO-NTT',\n",
       "   'ESO-Images-ESO-VISTA',\n",
       "   'ESO-Images-ESO-VLT-U',\n",
       "   'ESO-Images-ESO-VST',\n",
       "   'ESO-Images-NGTS'],\n",
       "  'ESO-Spectra': ['ESO-Spectra-APEX-12m',\n",
       "   'ESO-Spectra-ESO-3.6',\n",
       "   'ESO-Spectra-ESO-NTT',\n",
       "   'ESO-Spectra-ESO-VISTA',\n",
       "   'ESO-Spectra-ESO-VLT-U',\n",
       "   'ESO-Spectra-MPG/ESO-2.2'],\n",
       "  'ESO-Measurements': ['ESO-Measurements-APEX-12m',\n",
       "   'ESO-Measurements-ESO-NTT',\n",
       "   'ESO-Measurements-ESO-VISTA',\n",
       "   'ESO-Measurements-ESO-VLT-U',\n",
       "   'ESO-Measurements-ESO-VST',\n",
       "   'ESO-Measurements-MPG/ESO-2.2',\n",
       "   'ESO-Measurements-NGTS'],\n",
       "  'ESO-Cubes': ['ESO-Cubes-ESO-VISTA', 'ESO-Cubes-ESO-VLT-U'],\n",
       "  'ESO-Visibility': ['ESO-Visibility-ESO-VLTI']},\n",
       " 'CADC': {'CADC-Images': ['CADC-Images-APASS',\n",
       "   'CADC-Images-Apache Point',\n",
       "   'CADC-Images-BLAST',\n",
       "   'CADC-Images-CFHT 3.6m',\n",
       "   'CADC-Images-CTIO-1.5m',\n",
       "   'CADC-Images-DAO',\n",
       "   'CADC-Images-CGPS',\n",
       "   'CADC-Images-EVLA',\n",
       "   'CADC-Images-FUSE',\n",
       "   'CADC-Images-GEMINI',\n",
       "   'CADC-Images-IRAS',\n",
       "   'CADC-Images-Mt. Stromlo',\n",
       "   'CADC-Images-NEOSSat',\n",
       "   'CADC-Images-SUBARU',\n",
       "   'CADC-Images-TESS',\n",
       "   'CADC-Images-VLA'],\n",
       "  'CADC-Catalogues': ['CADC-Catalogues-APASS', 'CADC-Catalogues-CFHT 3.6m'],\n",
       "  'CADC-Cubes': ['CADC-Cubes-Apache Point',\n",
       "   'CADC-Cubes-CFHT 3.6m',\n",
       "   'CADC-Cubes-CGPS',\n",
       "   'CADC-Cubes-VLA'],\n",
       "  'CADC-Spectra': ['CADC-Spectra-Apache Point',\n",
       "   'CADC-Spectra-CFHT 3.6m',\n",
       "   'CADC-Spectra-DAO',\n",
       "   'CADC-Spectra-FUSE',\n",
       "   'CADC-Spectra-GEMINI',\n",
       "   'CADC-Spectra-SUBARU'],\n",
       "  'CADC-Time series': ['CADC-Time series-MOST', 'CADC-Time series-TESS']},\n",
       " 'MAST': {'MAST-Images': ['MAST-Images-Kepler',\n",
       "   'MAST-Images-K2',\n",
       "   'MAST-Images-SPITZER',\n",
       "   'MAST-Images-GALEX',\n",
       "   'MAST-Images-TESS',\n",
       "   'MAST-Images-PS1'],\n",
       "  'MAST-Time series': ['MAST-Time series-Kepler',\n",
       "   'MAST-Time series-K2',\n",
       "   'MAST-Time series-TESS',\n",
       "   'MAST-Time series-HST'],\n",
       "  'MAST-Cubes': ['MAST-Cubes-Kepler',\n",
       "   'MAST-Cubes-K2',\n",
       "   'MAST-Cubes-SPITZER',\n",
       "   'MAST-Cubes-SWIFT'],\n",
       "  'MAST-Spectra': ['MAST-Spectra-SPITZER',\n",
       "   'MAST-Spectra-GALEX',\n",
       "   'MAST-Spectra-HUT',\n",
       "   'MAST-Spectra-EUVE',\n",
       "   'MAST-Spectra-FUSE',\n",
       "   'MAST-Spectra-BEFS',\n",
       "   'MAST-Spectra-WUPPE',\n",
       "   'MAST-Spectra-TUES',\n",
       "   'MAST-Spectra-HLA']}}"
      ]
     },
     "execution_count": 40,
     "metadata": {},
     "output_type": "execute_result"
    }
   ],
   "source": [
    "# View all the available external TAP missions:\n",
    "esasky.getAllAvailableTapMissions()"
   ]
  },
  {
   "cell_type": "code",
   "execution_count": 41,
   "metadata": {},
   "outputs": [
    {
     "data": {
      "text/plain": [
       "{'eso-images-eso-vlt-u': 1,\n",
       " 'eso-measurements-eso-vlt-u': 1,\n",
       " 'eso-images-eso-vst': 1,\n",
       " 'eso-measurements-eso-vst': 1,\n",
       " 'eso-spectra-eso-vlt-u': 1,\n",
       " 'eso-cubes-eso-vlt-u': 1}"
      ]
     },
     "execution_count": 41,
     "metadata": {},
     "output_type": "execute_result"
    }
   ],
   "source": [
    "# Return the available data in the current field of from ESO (from the ESO TAP):\n",
    "esasky.getTapServiceCount('ESO')"
   ]
  },
  {
   "cell_type": "code",
   "execution_count": 42,
   "metadata": {},
   "outputs": [
    {
     "name": "stdout",
     "output_type": "stream",
     "text": [
      "Data from TAP: eso-images-eso-vlt-u displayed in the ESASky\n"
     ]
    }
   ],
   "source": [
    "# Plot the footprints and metadata in pyESASky for ESO VLT images in the current FoV \n",
    "esasky.plotTapService('eso-images-eso-vlt-u')"
   ]
  },
  {
   "cell_type": "code",
   "execution_count": 43,
   "metadata": {},
   "outputs": [
    {
     "data": {
      "text/html": [
       "<div>\n",
       "<style scoped>\n",
       "    .dataframe tbody tr th:only-of-type {\n",
       "        vertical-align: middle;\n",
       "    }\n",
       "\n",
       "    .dataframe tbody tr th {\n",
       "        vertical-align: top;\n",
       "    }\n",
       "\n",
       "    .dataframe thead th {\n",
       "        text-align: right;\n",
       "    }\n",
       "</style>\n",
       "<table border=\"1\" class=\"dataframe\">\n",
       "  <thead>\n",
       "    <tr style=\"text-align: right;\">\n",
       "      <th></th>\n",
       "      <th>abmaglim</th>\n",
       "      <th>access_estsize</th>\n",
       "      <th>access_format</th>\n",
       "      <th>access_url</th>\n",
       "      <th>bib_reference</th>\n",
       "      <th>calib_level</th>\n",
       "      <th>dataproduct_subtype</th>\n",
       "      <th>dataproduct_type</th>\n",
       "      <th>dp_id</th>\n",
       "      <th>em_max</th>\n",
       "      <th>...</th>\n",
       "      <th>s_resolution</th>\n",
       "      <th>s_xel1</th>\n",
       "      <th>s_xel2</th>\n",
       "      <th>snr</th>\n",
       "      <th>t_exptime</th>\n",
       "      <th>t_max</th>\n",
       "      <th>t_min</th>\n",
       "      <th>t_resolution</th>\n",
       "      <th>t_xel</th>\n",
       "      <th>target_name</th>\n",
       "    </tr>\n",
       "  </thead>\n",
       "  <tbody>\n",
       "    <tr>\n",
       "      <th>0</th>\n",
       "      <td>20.554</td>\n",
       "      <td>81875</td>\n",
       "      <td>application/x-votable+xml;content=datalink</td>\n",
       "      <td>http://archive.eso.org/datalink/links?ID=ADP.2...</td>\n",
       "      <td></td>\n",
       "      <td>2</td>\n",
       "      <td>tile</td>\n",
       "      <td>image</td>\n",
       "      <td>ADP.2016-07-27T12:21:55.204</td>\n",
       "      <td>0.00000214</td>\n",
       "      <td>...</td>\n",
       "      <td>0.386</td>\n",
       "      <td>4529</td>\n",
       "      <td>4529</td>\n",
       "      <td></td>\n",
       "      <td>2760</td>\n",
       "      <td>54932.04769929</td>\n",
       "      <td>54932.00626906</td>\n",
       "      <td>3579.571872</td>\n",
       "      <td></td>\n",
       "      <td>COSMOS-deepNB</td>\n",
       "    </tr>\n",
       "    <tr>\n",
       "      <th>1</th>\n",
       "      <td>20.393</td>\n",
       "      <td>86371</td>\n",
       "      <td>application/x-votable+xml;content=datalink</td>\n",
       "      <td>http://archive.eso.org/datalink/links?ID=ADP.2...</td>\n",
       "      <td></td>\n",
       "      <td>2</td>\n",
       "      <td>pawprint</td>\n",
       "      <td>image</td>\n",
       "      <td>ADP.2016-07-27T12:21:55.311</td>\n",
       "      <td>0.00000214</td>\n",
       "      <td>...</td>\n",
       "      <td>0.678</td>\n",
       "      <td>9266</td>\n",
       "      <td>9266</td>\n",
       "      <td></td>\n",
       "      <td>2760</td>\n",
       "      <td>54936.03616257</td>\n",
       "      <td>54935.99483577</td>\n",
       "      <td>3570.63552</td>\n",
       "      <td></td>\n",
       "      <td>COSMOS-deepNB</td>\n",
       "    </tr>\n",
       "    <tr>\n",
       "      <th>2</th>\n",
       "      <td>20.408</td>\n",
       "      <td>81676</td>\n",
       "      <td>application/x-votable+xml;content=datalink</td>\n",
       "      <td>http://archive.eso.org/datalink/links?ID=ADP.2...</td>\n",
       "      <td></td>\n",
       "      <td>2</td>\n",
       "      <td>tile</td>\n",
       "      <td>image</td>\n",
       "      <td>ADP.2016-07-27T12:21:55.319</td>\n",
       "      <td>0.00000214</td>\n",
       "      <td>...</td>\n",
       "      <td>0.7</td>\n",
       "      <td>4520</td>\n",
       "      <td>4520</td>\n",
       "      <td></td>\n",
       "      <td>2760</td>\n",
       "      <td>54936.078177</td>\n",
       "      <td>54936.03675784</td>\n",
       "      <td>3578.615424</td>\n",
       "      <td></td>\n",
       "      <td>COSMOS-deepNB</td>\n",
       "    </tr>\n",
       "    <tr>\n",
       "      <th>3</th>\n",
       "      <td>20.383</td>\n",
       "      <td>81766</td>\n",
       "      <td>application/x-votable+xml;content=datalink</td>\n",
       "      <td>http://archive.eso.org/datalink/links?ID=ADP.2...</td>\n",
       "      <td></td>\n",
       "      <td>2</td>\n",
       "      <td>tile</td>\n",
       "      <td>image</td>\n",
       "      <td>ADP.2016-07-27T12:21:55.351</td>\n",
       "      <td>0.00000214</td>\n",
       "      <td>...</td>\n",
       "      <td>0.62</td>\n",
       "      <td>4531</td>\n",
       "      <td>4531</td>\n",
       "      <td></td>\n",
       "      <td>2760</td>\n",
       "      <td>54936.16533742</td>\n",
       "      <td>54936.12380121</td>\n",
       "      <td>3588.728544</td>\n",
       "      <td></td>\n",
       "      <td>COSMOS-deepNB</td>\n",
       "    </tr>\n",
       "    <tr>\n",
       "      <th>4</th>\n",
       "      <td>20.259</td>\n",
       "      <td>85821</td>\n",
       "      <td>application/x-votable+xml;content=datalink</td>\n",
       "      <td>http://archive.eso.org/datalink/links?ID=ADP.2...</td>\n",
       "      <td></td>\n",
       "      <td>2</td>\n",
       "      <td>pawprint</td>\n",
       "      <td>image</td>\n",
       "      <td>ADP.2016-07-27T12:21:55.459</td>\n",
       "      <td>0.00000214</td>\n",
       "      <td>...</td>\n",
       "      <td>0.569</td>\n",
       "      <td>9284</td>\n",
       "      <td>9284</td>\n",
       "      <td></td>\n",
       "      <td>1980</td>\n",
       "      <td>54937.12266631</td>\n",
       "      <td>54937.09298937</td>\n",
       "      <td>2564.087616</td>\n",
       "      <td></td>\n",
       "      <td>COSMOS-deepNB</td>\n",
       "    </tr>\n",
       "    <tr>\n",
       "      <th>...</th>\n",
       "      <td>...</td>\n",
       "      <td>...</td>\n",
       "      <td>...</td>\n",
       "      <td>...</td>\n",
       "      <td>...</td>\n",
       "      <td>...</td>\n",
       "      <td>...</td>\n",
       "      <td>...</td>\n",
       "      <td>...</td>\n",
       "      <td>...</td>\n",
       "      <td>...</td>\n",
       "      <td>...</td>\n",
       "      <td>...</td>\n",
       "      <td>...</td>\n",
       "      <td>...</td>\n",
       "      <td>...</td>\n",
       "      <td>...</td>\n",
       "      <td>...</td>\n",
       "      <td>...</td>\n",
       "      <td>...</td>\n",
       "      <td>...</td>\n",
       "    </tr>\n",
       "    <tr>\n",
       "      <th>206</th>\n",
       "      <td>20.381</td>\n",
       "      <td>86353</td>\n",
       "      <td>application/x-votable+xml;content=datalink</td>\n",
       "      <td>http://archive.eso.org/datalink/links?ID=ADP.2...</td>\n",
       "      <td></td>\n",
       "      <td>2</td>\n",
       "      <td>pawprint</td>\n",
       "      <td>image</td>\n",
       "      <td>ADP.2016-07-27T12:21:55.359</td>\n",
       "      <td>0.00000214</td>\n",
       "      <td>...</td>\n",
       "      <td>0.604</td>\n",
       "      <td>9296</td>\n",
       "      <td>9296</td>\n",
       "      <td></td>\n",
       "      <td>2760</td>\n",
       "      <td>54936.16533742</td>\n",
       "      <td>54936.12380121</td>\n",
       "      <td>3588.728544</td>\n",
       "      <td></td>\n",
       "      <td>COSMOS-deepNB</td>\n",
       "    </tr>\n",
       "    <tr>\n",
       "      <th>207</th>\n",
       "      <td>20.435</td>\n",
       "      <td>81711</td>\n",
       "      <td>application/x-votable+xml;content=datalink</td>\n",
       "      <td>http://archive.eso.org/datalink/links?ID=ADP.2...</td>\n",
       "      <td></td>\n",
       "      <td>2</td>\n",
       "      <td>tile</td>\n",
       "      <td>image</td>\n",
       "      <td>ADP.2016-07-27T12:21:55.435</td>\n",
       "      <td>0.00000214</td>\n",
       "      <td>...</td>\n",
       "      <td>0.553</td>\n",
       "      <td>4525</td>\n",
       "      <td>4525</td>\n",
       "      <td></td>\n",
       "      <td>2760</td>\n",
       "      <td>54937.09246801</td>\n",
       "      <td>54937.05108346</td>\n",
       "      <td>3575.62512</td>\n",
       "      <td></td>\n",
       "      <td>COSMOS-deepNB</td>\n",
       "    </tr>\n",
       "    <tr>\n",
       "      <th>208</th>\n",
       "      <td>20.239</td>\n",
       "      <td>81483</td>\n",
       "      <td>application/x-votable+xml;content=datalink</td>\n",
       "      <td>http://archive.eso.org/datalink/links?ID=ADP.2...</td>\n",
       "      <td></td>\n",
       "      <td>2</td>\n",
       "      <td>tile</td>\n",
       "      <td>image</td>\n",
       "      <td>ADP.2016-07-27T12:21:55.451</td>\n",
       "      <td>0.00000214</td>\n",
       "      <td>...</td>\n",
       "      <td>0.593</td>\n",
       "      <td>4527</td>\n",
       "      <td>4527</td>\n",
       "      <td></td>\n",
       "      <td>1980</td>\n",
       "      <td>54937.12266631</td>\n",
       "      <td>54937.09298937</td>\n",
       "      <td>2564.087616</td>\n",
       "      <td></td>\n",
       "      <td>COSMOS-deepNB</td>\n",
       "    </tr>\n",
       "    <tr>\n",
       "      <th>209</th>\n",
       "      <td>20.695</td>\n",
       "      <td>81552</td>\n",
       "      <td>application/x-votable+xml;content=datalink</td>\n",
       "      <td>http://archive.eso.org/datalink/links?ID=ADP.2...</td>\n",
       "      <td></td>\n",
       "      <td>2</td>\n",
       "      <td>tile</td>\n",
       "      <td>image</td>\n",
       "      <td>ADP.2016-07-27T12:21:55.467</td>\n",
       "      <td>0.000002307</td>\n",
       "      <td>...</td>\n",
       "      <td>0.577</td>\n",
       "      <td>4524</td>\n",
       "      <td>4524</td>\n",
       "      <td></td>\n",
       "      <td>720</td>\n",
       "      <td>54937.13475291</td>\n",
       "      <td>54937.12320744</td>\n",
       "      <td>997.528608</td>\n",
       "      <td></td>\n",
       "      <td>COSMOS-deepNB</td>\n",
       "    </tr>\n",
       "    <tr>\n",
       "      <th>210</th>\n",
       "      <td>20.62</td>\n",
       "      <td>81607</td>\n",
       "      <td>application/x-votable+xml;content=datalink</td>\n",
       "      <td>http://archive.eso.org/datalink/links?ID=ADP.2...</td>\n",
       "      <td></td>\n",
       "      <td>2</td>\n",
       "      <td>tile</td>\n",
       "      <td>image</td>\n",
       "      <td>ADP.2016-07-27T12:21:55.591</td>\n",
       "      <td>0.000002307</td>\n",
       "      <td>...</td>\n",
       "      <td>0.834</td>\n",
       "      <td>4516</td>\n",
       "      <td>4516</td>\n",
       "      <td></td>\n",
       "      <td>720</td>\n",
       "      <td>54940.11984064</td>\n",
       "      <td>54940.10834419</td>\n",
       "      <td>993.29328</td>\n",
       "      <td></td>\n",
       "      <td>COSMOS-deepNB</td>\n",
       "    </tr>\n",
       "  </tbody>\n",
       "</table>\n",
       "<p>211 rows × 50 columns</p>\n",
       "</div>"
      ],
      "text/plain": [
       "    abmaglim access_estsize                               access_format  \\\n",
       "0     20.554          81875  application/x-votable+xml;content=datalink   \n",
       "1     20.393          86371  application/x-votable+xml;content=datalink   \n",
       "2     20.408          81676  application/x-votable+xml;content=datalink   \n",
       "3     20.383          81766  application/x-votable+xml;content=datalink   \n",
       "4     20.259          85821  application/x-votable+xml;content=datalink   \n",
       "..       ...            ...                                         ...   \n",
       "206   20.381          86353  application/x-votable+xml;content=datalink   \n",
       "207   20.435          81711  application/x-votable+xml;content=datalink   \n",
       "208   20.239          81483  application/x-votable+xml;content=datalink   \n",
       "209   20.695          81552  application/x-votable+xml;content=datalink   \n",
       "210    20.62          81607  application/x-votable+xml;content=datalink   \n",
       "\n",
       "                                            access_url bib_reference  \\\n",
       "0    http://archive.eso.org/datalink/links?ID=ADP.2...                 \n",
       "1    http://archive.eso.org/datalink/links?ID=ADP.2...                 \n",
       "2    http://archive.eso.org/datalink/links?ID=ADP.2...                 \n",
       "3    http://archive.eso.org/datalink/links?ID=ADP.2...                 \n",
       "4    http://archive.eso.org/datalink/links?ID=ADP.2...                 \n",
       "..                                                 ...           ...   \n",
       "206  http://archive.eso.org/datalink/links?ID=ADP.2...                 \n",
       "207  http://archive.eso.org/datalink/links?ID=ADP.2...                 \n",
       "208  http://archive.eso.org/datalink/links?ID=ADP.2...                 \n",
       "209  http://archive.eso.org/datalink/links?ID=ADP.2...                 \n",
       "210  http://archive.eso.org/datalink/links?ID=ADP.2...                 \n",
       "\n",
       "    calib_level dataproduct_subtype dataproduct_type  \\\n",
       "0             2                tile            image   \n",
       "1             2            pawprint            image   \n",
       "2             2                tile            image   \n",
       "3             2                tile            image   \n",
       "4             2            pawprint            image   \n",
       "..          ...                 ...              ...   \n",
       "206           2            pawprint            image   \n",
       "207           2                tile            image   \n",
       "208           2                tile            image   \n",
       "209           2                tile            image   \n",
       "210           2                tile            image   \n",
       "\n",
       "                           dp_id       em_max  ... s_resolution s_xel1 s_xel2  \\\n",
       "0    ADP.2016-07-27T12:21:55.204   0.00000214  ...        0.386   4529   4529   \n",
       "1    ADP.2016-07-27T12:21:55.311   0.00000214  ...        0.678   9266   9266   \n",
       "2    ADP.2016-07-27T12:21:55.319   0.00000214  ...          0.7   4520   4520   \n",
       "3    ADP.2016-07-27T12:21:55.351   0.00000214  ...         0.62   4531   4531   \n",
       "4    ADP.2016-07-27T12:21:55.459   0.00000214  ...        0.569   9284   9284   \n",
       "..                           ...          ...  ...          ...    ...    ...   \n",
       "206  ADP.2016-07-27T12:21:55.359   0.00000214  ...        0.604   9296   9296   \n",
       "207  ADP.2016-07-27T12:21:55.435   0.00000214  ...        0.553   4525   4525   \n",
       "208  ADP.2016-07-27T12:21:55.451   0.00000214  ...        0.593   4527   4527   \n",
       "209  ADP.2016-07-27T12:21:55.467  0.000002307  ...        0.577   4524   4524   \n",
       "210  ADP.2016-07-27T12:21:55.591  0.000002307  ...        0.834   4516   4516   \n",
       "\n",
       "    snr t_exptime           t_max           t_min t_resolution t_xel  \\\n",
       "0            2760  54932.04769929  54932.00626906  3579.571872         \n",
       "1            2760  54936.03616257  54935.99483577   3570.63552         \n",
       "2            2760    54936.078177  54936.03675784  3578.615424         \n",
       "3            2760  54936.16533742  54936.12380121  3588.728544         \n",
       "4            1980  54937.12266631  54937.09298937  2564.087616         \n",
       "..   ..       ...             ...             ...          ...   ...   \n",
       "206          2760  54936.16533742  54936.12380121  3588.728544         \n",
       "207          2760  54937.09246801  54937.05108346   3575.62512         \n",
       "208          1980  54937.12266631  54937.09298937  2564.087616         \n",
       "209           720  54937.13475291  54937.12320744   997.528608         \n",
       "210           720  54940.11984064  54940.10834419    993.29328         \n",
       "\n",
       "       target_name  \n",
       "0    COSMOS-deepNB  \n",
       "1    COSMOS-deepNB  \n",
       "2    COSMOS-deepNB  \n",
       "3    COSMOS-deepNB  \n",
       "4    COSMOS-deepNB  \n",
       "..             ...  \n",
       "206  COSMOS-deepNB  \n",
       "207  COSMOS-deepNB  \n",
       "208  COSMOS-deepNB  \n",
       "209  COSMOS-deepNB  \n",
       "210  COSMOS-deepNB  \n",
       "\n",
       "[211 rows x 50 columns]"
      ]
     },
     "execution_count": 43,
     "metadata": {},
     "output_type": "execute_result"
    }
   ],
   "source": [
    "data=esasky.getResultPanelData()\n",
    "vlt = pd.DataFrame.from_dict(data).transpose()\n",
    "vlt"
   ]
  },
  {
   "cell_type": "code",
   "execution_count": 44,
   "metadata": {},
   "outputs": [],
   "source": [
    "esasky.closeAllResultPanelTabs()"
   ]
  },
  {
   "cell_type": "markdown",
   "metadata": {},
   "source": [
    "<br />\n",
    "<p style=\"font-weight: bold;text-align: center;font-size: 2.0em;color: #00338D\">Cross-match catalogues using astropy</p>"
   ]
  },
  {
   "cell_type": "markdown",
   "metadata": {},
   "source": [
    "### Cross-match the two catalogues using astropy.coordinates"
   ]
  },
  {
   "cell_type": "code",
   "execution_count": 45,
   "metadata": {},
   "outputs": [],
   "source": [
    "from astropy.coordinates import SkyCoord\n",
    "from astropy.coordinates import ICRS, Galactic, FK4, FK5\n",
    "from astropy import units as u"
   ]
  },
  {
   "cell_type": "code",
   "execution_count": 46,
   "metadata": {},
   "outputs": [],
   "source": [
    "ra1 = xmmepic['ra']\n",
    "dec1 = xmmepic['dec']\n",
    "ra2 = HPPSC100['ra']\n",
    "dec2 = HPPSC100['dec']\n",
    "c = SkyCoord(ra1, dec1, frame='icrs', unit='deg')\n",
    "catalog = SkyCoord(ra2, dec2, frame='icrs', unit='deg')\n",
    "idx, d2d, d3d = c.match_to_catalog_sky(catalog)"
   ]
  },
  {
   "cell_type": "code",
   "execution_count": 47,
   "metadata": {
    "scrolled": true
   },
   "outputs": [
    {
     "data": {
      "text/plain": [
       "<SkyCoord (ICRS): (ra, dec) in deg\n",
       "    [(150.22365804, 2.10558539), (150.13814828, 2.2915237 ),\n",
       "     (150.0620162 , 2.45481604), (150.04586966, 2.10833129),\n",
       "     (150.17580123, 2.4038196 ), (150.07346567, 2.34640057),\n",
       "     (150.17919592, 2.11028374), (150.19486106, 2.00481937),\n",
       "     (150.17919592, 2.11028374), (150.13814828, 2.2915237 ),\n",
       "     (150.07907042, 2.26618761), (150.14270206, 2.05077628),\n",
       "     (150.0620162 , 2.45481604), (150.0558229 , 2.23328241),\n",
       "     (150.12352427, 2.35821883), (150.15774732, 2.13979568),\n",
       "     (150.19486106, 2.00481937), (150.12352427, 2.35821883),\n",
       "     (150.05067549, 2.30581431), (150.09552144, 2.22001561),\n",
       "     (150.22365804, 2.10558539), (150.20978793, 2.24946686),\n",
       "     (150.11950782, 2.29566352), (150.1942461 , 2.06807927),\n",
       "     (150.01829771, 2.35005804), (150.18659166, 2.45506715),\n",
       "     (150.07346567, 2.34640057), (150.0620162 , 2.45481604),\n",
       "     (150.1942461 , 2.06807927), (150.22992128, 2.3958995 ),\n",
       "     (150.13814828, 2.2915237 ), (150.1942461 , 2.06807927),\n",
       "     (150.1942461 , 2.06807927), (150.17919592, 2.11028374),\n",
       "     (150.04586966, 2.10833129), (150.0620162 , 2.45481604),\n",
       "     (150.19486106, 2.00481937), (150.19985297, 2.19071432),\n",
       "     (150.17919592, 2.11028374), (150.05890271, 2.11232141),\n",
       "     (150.19985297, 2.19071432), (150.10583091, 2.01425013),\n",
       "     (150.19985297, 2.19071432), (150.18659166, 2.45506715),\n",
       "     (150.05899062, 2.21983311), (150.12352427, 2.35821883),\n",
       "     (150.19985297, 2.19071432), (150.06679082, 2.21022736),\n",
       "     (150.13814828, 2.2915237 ), (150.22992128, 2.3958995 ),\n",
       "     (150.12352427, 2.35821883), (150.10588909, 2.21304437),\n",
       "     (150.22992128, 2.3958995 ), (150.17919592, 2.11028374),\n",
       "     (150.04586966, 2.10833129), (150.22992128, 2.3958995 ),\n",
       "     (150.17919592, 2.11028374), (150.21852698, 2.28003522),\n",
       "     (150.17919592, 2.11028374), (150.17919592, 2.11028374),\n",
       "     (150.07907042, 2.26618761), (150.12352427, 2.35821883),\n",
       "     (150.19486106, 2.00481937), (150.13814828, 2.2915237 ),\n",
       "     (150.07346567, 2.34640057), (150.17919592, 2.11028374),\n",
       "     (150.07797653, 2.12313709), (150.1942461 , 2.06807927),\n",
       "     (150.1942461 , 2.06807927), (150.12352427, 2.35821883),\n",
       "     (150.11950782, 2.29566352), (150.11950782, 2.29566352),\n",
       "     (150.07907042, 2.26618761), (150.15774732, 2.13979568),\n",
       "     (150.11950782, 2.29566352), (150.1942461 , 2.06807927),\n",
       "     (150.05890271, 2.11232141), (150.1942461 , 2.06807927),\n",
       "     (150.22992128, 2.3958995 ), (150.17919592, 2.11028374),\n",
       "     (150.11950782, 2.29566352), (150.10583091, 2.01425013),\n",
       "     (150.1942461 , 2.06807927), (150.15774732, 2.13979568),\n",
       "     (150.22365804, 2.10558539), (150.0558229 , 2.23328241),\n",
       "     (150.0558229 , 2.23328241), (150.13814828, 2.2915237 ),\n",
       "     (150.1942461 , 2.06807927), (150.22992128, 2.3958995 ),\n",
       "     (150.07797653, 2.12313709), (150.07346567, 2.34640057),\n",
       "     (150.22992128, 2.3958995 ), (150.19486106, 2.00481937),\n",
       "     (150.15774732, 2.13979568), (150.17919592, 2.11028374),\n",
       "     (150.22365804, 2.10558539), (150.1942461 , 2.06807927),\n",
       "     (150.18659166, 2.45506715), (150.11950782, 2.29566352),\n",
       "     (150.19985297, 2.19071432), (150.22365804, 2.10558539),\n",
       "     (150.07797653, 2.12313709), (150.05890271, 2.11232141),\n",
       "     (150.05385469, 1.99995506), (150.04586966, 2.10833129),\n",
       "     (150.19486106, 2.00481937)]>"
      ]
     },
     "execution_count": 47,
     "metadata": {},
     "output_type": "execute_result"
    }
   ],
   "source": [
    "# Set a maximum separation as 5 arcseconds\n",
    "max_sep = 5.0 * u.arcsec\n",
    "idx, d2d, d3d = c.match_to_catalog_3d(catalog)\n",
    "sep_constraint = d2d < max_sep\n",
    "c_matches = c[sep_constraint]\n",
    "catalog_matches = catalog[idx[sep_constraint]]\n",
    "catalog_matches\n",
    "#catalog_matches"
   ]
  },
  {
   "cell_type": "code",
   "execution_count": 48,
   "metadata": {},
   "outputs": [
    {
     "data": {
      "text/html": [
       "<i>Table length=107</i>\n",
       "<table id=\"table34904666448\" class=\"table-striped table-bordered table-condensed\">\n",
       "<thead><tr><th>ra</th><th>dec</th><th>Name</th></tr></thead>\n",
       "<thead><tr><th>deg</th><th>deg</th><th></th></tr></thead>\n",
       "<thead><tr><th>float64</th><th>float64</th><th>float64</th></tr></thead>\n",
       "<tr><td>150.223658044377</td><td>2.10558538944994</td><td>1.0</td></tr>\n",
       "<tr><td>150.13814827609</td><td>2.29152369815127</td><td>2.0</td></tr>\n",
       "<tr><td>150.062016196925</td><td>2.45481604391819</td><td>3.0</td></tr>\n",
       "<tr><td>150.045869657262</td><td>2.1083312865614</td><td>4.0</td></tr>\n",
       "<tr><td>150.175801227365</td><td>2.40381960168868</td><td>5.0</td></tr>\n",
       "<tr><td>150.073465672486</td><td>2.34640057347026</td><td>6.0</td></tr>\n",
       "<tr><td>150.179195921697</td><td>2.11028374481469</td><td>7.0</td></tr>\n",
       "<tr><td>150.19486105997</td><td>2.00481937123556</td><td>8.0</td></tr>\n",
       "<tr><td>150.179195921697</td><td>2.11028374481469</td><td>9.0</td></tr>\n",
       "<tr><td>...</td><td>...</td><td>...</td></tr>\n",
       "<tr><td>150.194246102573</td><td>2.06807927112983</td><td>98.0</td></tr>\n",
       "<tr><td>150.186591658391</td><td>2.45506715350017</td><td>99.0</td></tr>\n",
       "<tr><td>150.119507822329</td><td>2.29566352185971</td><td>100.0</td></tr>\n",
       "<tr><td>150.199852974034</td><td>2.19071432247451</td><td>101.0</td></tr>\n",
       "<tr><td>150.223658044377</td><td>2.10558538944994</td><td>102.0</td></tr>\n",
       "<tr><td>150.077976530186</td><td>2.12313709473092</td><td>103.0</td></tr>\n",
       "<tr><td>150.058902712108</td><td>2.11232140630628</td><td>104.0</td></tr>\n",
       "<tr><td>150.053854692687</td><td>1.99995505832308</td><td>105.0</td></tr>\n",
       "<tr><td>150.045869657262</td><td>2.1083312865614</td><td>106.0</td></tr>\n",
       "<tr><td>150.19486105997</td><td>2.00481937123556</td><td>107.0</td></tr>\n",
       "</table>"
      ],
      "text/plain": [
       "<Table length=107>\n",
       "       ra              dec          Name \n",
       "      deg              deg               \n",
       "    float64          float64      float64\n",
       "---------------- ---------------- -------\n",
       "150.223658044377 2.10558538944994     1.0\n",
       " 150.13814827609 2.29152369815127     2.0\n",
       "150.062016196925 2.45481604391819     3.0\n",
       "150.045869657262  2.1083312865614     4.0\n",
       "150.175801227365 2.40381960168868     5.0\n",
       "150.073465672486 2.34640057347026     6.0\n",
       "150.179195921697 2.11028374481469     7.0\n",
       " 150.19486105997 2.00481937123556     8.0\n",
       "150.179195921697 2.11028374481469     9.0\n",
       "             ...              ...     ...\n",
       "150.194246102573 2.06807927112983    98.0\n",
       "150.186591658391 2.45506715350017    99.0\n",
       "150.119507822329 2.29566352185971   100.0\n",
       "150.199852974034 2.19071432247451   101.0\n",
       "150.223658044377 2.10558538944994   102.0\n",
       "150.077976530186 2.12313709473092   103.0\n",
       "150.058902712108 2.11232140630628   104.0\n",
       "150.053854692687 1.99995505832308   105.0\n",
       "150.045869657262  2.1083312865614   106.0\n",
       " 150.19486105997 2.00481937123556   107.0"
      ]
     },
     "execution_count": 48,
     "metadata": {},
     "output_type": "execute_result"
    }
   ],
   "source": [
    "# Convert the SkyCoord column to an astropy table \n",
    "# and add a Name column (for pyESASky)\n",
    "from astropy.table import Table\n",
    "import numpy as np\n",
    "XMMEPIC_HPPSC100 = Table()\n",
    "XMMEPIC_HPPSC100['ra'] = catalog_matches.ra\n",
    "XMMEPIC_HPPSC100['dec'] = catalog_matches.dec\n",
    "XMMEPIC_HPPSC100['Name'] = np.linspace(1, catalog_matches.size, catalog_matches.size)\n",
    "XMMEPIC_HPPSC100"
   ]
  },
  {
   "cell_type": "markdown",
   "metadata": {},
   "source": [
    "<br />\n",
    "<p style=\"font-weight: bold;text-align: center;font-size: 2.5em;color: #00338D\">Send your data to ESASky</p>"
   ]
  },
  {
   "cell_type": "markdown",
   "metadata": {},
   "source": [
    "## Send the cross-matched table to ESASky"
   ]
  },
  {
   "cell_type": "code",
   "execution_count": 49,
   "metadata": {},
   "outputs": [],
   "source": [
    "# overlayCatalogueFromAstropyTable('<catName>', '<cooFrame>', <color>, <lineWidth>, <table>, '<raColname>', '<decColname>', '<mainIDColname>')\n",
    "# where:\n",
    "# - <catName> : name of the catalogue that will be used in pyESASky as label\n",
    "# - <cooFRAME> : coordinate frame\n",
    "# - <color> : HTML color. It could be a \"Color name\", \"Hex color code\" or \"RGB color code\"\n",
    "# - <lineWidth> : width used to draw sources. From 1 to 10\n",
    "# - <table> : name of the column containing a unique identifier for sources if any. None if not applicable\n",
    "# - <raColname> : name of the RA column in degrees\n",
    "# - <decColname> : name of the Dec column in degrees\n",
    "# - <mainIDColname> : name of the column with the name of the source\n",
    "\n",
    "esasky.overlayCatalogueFromAstropyTable('XMMEPIC_HPPSC100', 'J2000', '#ffff00', 10, XMMEPIC_HPPSC100, 'ra','dec','Name')"
   ]
  },
  {
   "cell_type": "markdown",
   "metadata": {},
   "source": [
    "## Send a catalogue in VizieR to ESASky"
   ]
  },
  {
   "cell_type": "code",
   "execution_count": 50,
   "metadata": {},
   "outputs": [],
   "source": [
    "import astropy"
   ]
  },
  {
   "cell_type": "code",
   "execution_count": null,
   "metadata": {},
   "outputs": [],
   "source": [
    "# Import the VizieR astroquery module\n",
    "from astroquery.vizier import vizier"
   ]
  },
  {
   "cell_type": "code",
   "execution_count": null,
   "metadata": {},
   "outputs": [],
   "source": [
    "# Query the Véron-Cetty+ 2010 catalogue, VII/258/vv10, for the \n",
    "# Cosmos field with search radius 0.5 degrees\n",
    "result = Vizier.query_region(\"Cosmos Field\", \n",
    "                             radius=0.5*u.deg, catalog='VII/258/vv10')\n",
    "print(result)"
   ]
  },
  {
   "cell_type": "code",
   "execution_count": null,
   "metadata": {
    "scrolled": true
   },
   "outputs": [],
   "source": [
    "Veron = result['VII/258/vv10']\n",
    "Veron"
   ]
  },
  {
   "cell_type": "code",
   "execution_count": null,
   "metadata": {
    "scrolled": true
   },
   "outputs": [],
   "source": [
    "#transform the RA and Dec to degrees and add two new columns\n",
    "c = SkyCoord(Veron['RAJ2000'], Veron['DEJ2000'], unit=(u.hourangle, u.deg))\n",
    "Veron['RAJ2000'] = c.ra\n",
    "Veron['DEJ2000'] = c.dec\n",
    "Veron"
   ]
  },
  {
   "cell_type": "code",
   "execution_count": null,
   "metadata": {},
   "outputs": [],
   "source": [
    "# Send the catalogue to ESASky\n",
    "esasky.overlayCatalogueFromAstropyTable('Veron', 'J2000', '#33c9cc', 5, Veron, 'RAJ2000', 'DEJ2000','Name')"
   ]
  },
  {
   "cell_type": "markdown",
   "metadata": {},
   "source": [
    "You can also upload your own tables from files or create your own tables and send them to ESASky."
   ]
  },
  {
   "cell_type": "markdown",
   "metadata": {},
   "source": [
    "## Send Footprints to ESASky"
   ]
  },
  {
   "cell_type": "code",
   "execution_count": 44,
   "metadata": {},
   "outputs": [],
   "source": [
    "# Go to anoter region in the sky, set the Fov and change HiPS to Spitzer\n",
    "esasky.goToTargetName('[SPK2012] MWP1G300134-001035')\n",
    "esasky.setFoV(2.3)\n",
    "esasky.setHiPS(\"Spitzer cold SEIP IRAC-1-3-4 RGB bright\")\n",
    "#esasky.setHiPS(\"Spitzer\", \"http://cdn.skies.esac.esa.int/Spitzer/IRAC134_RGB_bright/\")"
   ]
  },
  {
   "cell_type": "code",
   "execution_count": 45,
   "metadata": {},
   "outputs": [],
   "source": [
    "footprintDesc = FootprintSetDescriptor('test footprints', 'red', 5, 'id', 'id', 'stcs', 'ra', 'dec', [])"
   ]
  },
  {
   "cell_type": "code",
   "execution_count": 46,
   "metadata": {},
   "outputs": [
    {
     "name": "stdout",
     "output_type": "stream",
     "text": [
      "Columns identified: id, ra, dec, wid, hei, stcs, score\n",
      "{id} mapped to id\n",
      "{name} mapped to id\n",
      "{centerRaDeg} mapped to ra\n",
      "{centerDecDeg} mapped to dec\n",
      "{stcs} mapped to stcs\n",
      "Processed 27 lines.\n"
     ]
    }
   ],
   "source": [
    "esasky.overlayFootprintsFromCSV('./testfootprint.csv', ',', footprintDesc)"
   ]
  },
  {
   "cell_type": "code",
   "execution_count": 47,
   "metadata": {},
   "outputs": [],
   "source": [
    "esasky.closeAllResultPanelTabs()"
   ]
  },
  {
   "cell_type": "markdown",
   "metadata": {},
   "source": [
    "## Send your own HiPS to ESASky"
   ]
  },
  {
   "cell_type": "markdown",
   "metadata": {},
   "source": [
    "This will start a tornado server opening up a port allowing web browser access to this path and all folders/files underneath"
   ]
  },
  {
   "cell_type": "code",
   "execution_count": null,
   "metadata": {},
   "outputs": [],
   "source": [
    "esasky.goToRADec('266.41683', '-29.00781')\n",
    "esasky.setFoV(90)\n",
    "esasky.addHiPS(\"MyLocalHiPS\", \"/Users/dbaines/Downloads/LFI_SkyMap_030_1024_R3.00_full_HiPS/\")\n",
    "esasky.setHiPSColorPalette('PLANCK')\n",
    "esasky.openSkyPanel()"
   ]
  },
  {
   "cell_type": "code",
   "execution_count": null,
   "metadata": {},
   "outputs": [],
   "source": [
    "#Stop the tornado server:\n",
    "esasky.httpserver.stop()"
   ]
  },
  {
   "cell_type": "markdown",
   "metadata": {},
   "source": [
    "<br />\n",
    "<p style=\"font-weight: bold;text-align: center;font-size: 2.5em;color: #00338D\">Interacting with other ESASky Functionalities</p>"
   ]
  },
  {
   "cell_type": "markdown",
   "metadata": {},
   "source": [
    "## Sliding through different HiPS"
   ]
  },
  {
   "cell_type": "code",
   "execution_count": 65,
   "metadata": {},
   "outputs": [],
   "source": [
    "# Go to Seyfert 2 Galaxy Centaurus A\n",
    "esasky.goToRADec(201.365063, -43.019113)\n",
    "esasky.setFoV(0.2)"
   ]
  },
  {
   "cell_type": "markdown",
   "metadata": {},
   "source": [
    "Add HiPS to the sky panel"
   ]
  },
  {
   "cell_type": "code",
   "execution_count": 10,
   "metadata": {},
   "outputs": [
    {
     "name": "stdout",
     "output_type": "stream",
     "text": [
      "No HiPS called: Chandraa RGB found. Try getAvailableHiPS() for existing HiPS names\n"
     ]
    }
   ],
   "source": [
    "esasky.addHiPS(\"Chandra RGB\")\n",
    "esasky.addHiPS(\"XMM-Newton EPIC color\")\n",
    "esasky.addHiPS(\"DSS2 Color\")\n",
    "esasky.addHiPS(\"2MASS color JHK\")\n",
    "esasky.addHiPS(\"Spitzer cold SEIP IRAC2 faint\")\n",
    "esasky.addHiPS(\"Herschel PACS RGB 70, 160 micron\")"
   ]
  },
  {
   "cell_type": "markdown",
   "metadata": {},
   "source": [
    "Animations can be made programmatically using this slider function"
   ]
  },
  {
   "cell_type": "code",
   "execution_count": 67,
   "metadata": {},
   "outputs": [],
   "source": [
    "import time\n",
    "for i in range(500):\n",
    "    esasky.setHiPSSliderValue(i/100.0)\n",
    "    time.sleep(0.02)"
   ]
  },
  {
   "cell_type": "markdown",
   "metadata": {},
   "source": [
    "We can even create a slider in the python interface to control the HiPS"
   ]
  },
  {
   "cell_type": "code",
   "execution_count": 68,
   "metadata": {},
   "outputs": [
    {
     "data": {
      "application/vnd.jupyter.widget-view+json": {
       "model_id": "278b1648da3243b18a29b5bf16ec4268",
       "version_major": 2,
       "version_minor": 0
      },
      "text/plain": [
       "FloatSlider(value=0.0, max=6.0, step=0.01)"
      ]
     },
     "metadata": {},
     "output_type": "display_data"
    }
   ],
   "source": [
    "import asyncio\n",
    "nSkies = esasky.getNumberOfSkyRows()\n",
    "def wait_for_change(widget, value):\n",
    "    future = asyncio.Future()\n",
    "    def getvalue(change):\n",
    "        future.set_result(change.new)\n",
    "        widget.unobserve(getvalue, value)\n",
    "    widget.observe(getvalue, value)\n",
    "    return future\n",
    "\n",
    "from ipywidgets import FloatSlider\n",
    "slider = FloatSlider(min=0.0, max=nSkies-1, step=0.01,  continuous_update=True)\n",
    "\n",
    "async def f():\n",
    "    while True:\n",
    "        x = await wait_for_change(slider, 'value')\n",
    "        esasky.setHiPSSliderValue(x)\n",
    "asyncio.ensure_future(f())\n",
    "\n",
    "slider"
   ]
  },
  {
   "cell_type": "markdown",
   "metadata": {},
   "source": [
    "## Interacting with the JWST Planning Tool"
   ]
  },
  {
   "cell_type": "markdown",
   "metadata": {},
   "source": [
    "### Open the JWST Planning Tool and add an instrument at specific coordinates"
   ]
  },
  {
   "cell_type": "code",
   "execution_count": 4,
   "metadata": {},
   "outputs": [
    {
     "name": "stdout",
     "output_type": "stream",
     "text": [
      "No detector with that name exists. Available detectors for instrument: NIRSPEC are: [NRS_FULL_MSA, NRS_FULL_MSA1, NRS_FULL_MSA2, NRS_FULL_MSA3, NRS_FULL_MSA4, NRS_FULL_IFU, NRS_S200A1_SLIT, NRS_S200A2_SLIT, NRS_S200B1_SLIT, NRS_S400A1_SLIT, NRS_S1600A1_SLIT,]\n"
     ]
    }
   ],
   "source": [
    "esasky.closeSkyPanel() #first, close the sky panel\n",
    "esasky.addJwstWithCoordinates(\"NIRSPEC\", \"NRS_FULL_MSA\", False, \"201.365063\", \"-43.019113\", \"5\")"
   ]
  },
  {
   "cell_type": "markdown",
   "metadata": {},
   "source": [
    "### Add an instrument at the centre of the screen and include all instruments in the focal plane"
   ]
  },
  {
   "cell_type": "code",
   "execution_count": 7,
   "metadata": {},
   "outputs": [
    {
     "name": "stdout",
     "output_type": "stream",
     "text": [
      "Showing instrument in the sky\n"
     ]
    }
   ],
   "source": [
    "esasky.setFoV(0.5)\n",
    "esasky.addJwst(\"NIRCam\", \"NRCB5_MASK430R\", True) "
   ]
  },
  {
   "cell_type": "code",
   "execution_count": 63,
   "metadata": {},
   "outputs": [],
   "source": [
    "esasky.closeJwstPanel()"
   ]
  },
  {
   "cell_type": "code",
   "execution_count": 58,
   "metadata": {},
   "outputs": [],
   "source": [
    "esasky.openJwstPanel()"
   ]
  },
  {
   "cell_type": "code",
   "execution_count": 64,
   "metadata": {},
   "outputs": [],
   "source": [
    "esasky.clearJwstAll()\n",
    "esasky.closeJwstPanel()"
   ]
  },
  {
   "cell_type": "markdown",
   "metadata": {},
   "source": [
    "## Coordinates Grid"
   ]
  },
  {
   "cell_type": "markdown",
   "metadata": {},
   "source": [
    "The latest version of ESASky includes a coordinates grid which can be switched on and off:"
   ]
  },
  {
   "cell_type": "code",
   "execution_count": 53,
   "metadata": {},
   "outputs": [],
   "source": [
    "esasky.goToRADec(350.850, +58.815) #Cas A\n",
    "esasky.setFoV(0.2)"
   ]
  },
  {
   "cell_type": "code",
   "execution_count": 54,
   "metadata": {},
   "outputs": [],
   "source": [
    "esasky.setHiPS('Chandra RGB')\n",
    "esasky.showCoordinateGrid(True)"
   ]
  },
  {
   "cell_type": "code",
   "execution_count": 55,
   "metadata": {},
   "outputs": [],
   "source": [
    "esasky.showCoordinateGrid(False)"
   ]
  },
  {
   "cell_type": "markdown",
   "metadata": {},
   "source": [
    "## Healpix MOCs"
   ]
  },
  {
   "cell_type": "markdown",
   "metadata": {},
   "source": [
    "Display your own MOCs on the sky using IVOA string or JSON notation"
   ]
  },
  {
   "cell_type": "code",
   "execution_count": null,
   "metadata": {},
   "outputs": [],
   "source": [
    "esasky.overlayMOC('6/2-15 23 554 7/22 50-75', 'myMoc', 'blue', 0.2)"
   ]
  },
  {
   "cell_type": "code",
   "execution_count": null,
   "metadata": {},
   "outputs": [],
   "source": [
    "esasky.overlayMOC('{\"3\":[1,2,3,4,5], \"4\":[26,27]}', 'myMoc2', '#FF1244', 1)"
   ]
  },
  {
   "cell_type": "code",
   "execution_count": null,
   "metadata": {},
   "outputs": [],
   "source": [
    "esasky.removeMOC('myMoc')\n",
    "esasky.removeMOC('myMoc2')"
   ]
  }
 ],
 "metadata": {
  "kernelspec": {
   "display_name": "Python 3",
   "language": "python",
   "name": "python3"
  },
  "language_info": {
   "codemirror_mode": {
    "name": "ipython",
    "version": 3
   },
   "file_extension": ".py",
   "mimetype": "text/x-python",
   "name": "python",
   "nbconvert_exporter": "python",
   "pygments_lexer": "ipython3",
   "version": "3.7.6"
  }
 },
 "nbformat": 4,
 "nbformat_minor": 4
}
