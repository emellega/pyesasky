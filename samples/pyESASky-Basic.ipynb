{
 "cells": [
  {
   "cell_type": "code",
   "execution_count": 1,
   "metadata": {},
   "outputs": [],
   "source": [
    "from pyesasky.pyesasky import ESASkyWidget\n",
    "from pyesasky.pyesasky import Catalogue"
   ]
  },
  {
   "cell_type": "code",
   "execution_count": 2,
   "metadata": {},
   "outputs": [],
   "source": [
    "esasky = ESASkyWidget()"
   ]
  },
  {
   "cell_type": "code",
   "execution_count": 3,
   "metadata": {
    "scrolled": false
   },
   "outputs": [
    {
     "data": {
      "application/vnd.jupyter.widget-view+json": {
       "model_id": "df9f34c3647d4a848fd60e473e91d051",
       "version_major": 2,
       "version_minor": 0
      },
      "text/plain": [
       "ESASkyWidget(layout=Layout(align_self='stretch', height='400px'))"
      ]
     },
     "metadata": {},
     "output_type": "display_data"
    }
   ],
   "source": [
    "esasky"
   ]
  },
  {
   "cell_type": "code",
   "execution_count": 4,
   "metadata": {},
   "outputs": [],
   "source": [
    "# go to RA and Dec\n",
    "esasky.setGoToRADec('07 02 36.716', '-8 22 40.77')"
   ]
  },
  {
   "cell_type": "code",
   "execution_count": 5,
   "metadata": {},
   "outputs": [],
   "source": [
    "esasky.setFoV(0.25)"
   ]
  },
  {
   "cell_type": "code",
   "execution_count": 6,
   "metadata": {},
   "outputs": [],
   "source": [
    "esasky.goToTargetName('M51')"
   ]
  },
  {
   "cell_type": "code",
   "execution_count": 7,
   "metadata": {},
   "outputs": [],
   "source": [
    "esasky.setHiPSColorPalette('PLANCK')"
   ]
  },
  {
   "cell_type": "code",
   "execution_count": 8,
   "metadata": {},
   "outputs": [],
   "source": [
    "esasky.setHiPSColorPalette('NATIVE')"
   ]
  },
  {
   "cell_type": "code",
   "execution_count": 9,
   "metadata": {},
   "outputs": [],
   "source": [
    "esasky.setGoToRADec('10 0 2', '+10 1 23')"
   ]
  },
  {
   "cell_type": "code",
   "execution_count": 6,
   "metadata": {},
   "outputs": [
    {
     "name": "stdout",
     "output_type": "stream",
     "text": [
      "costructor HiPS imgFormat png\n",
      "hipsURL http://cdn.skies.esac.esa.int/Spitzer/IRAC134_RGB_bright/\n",
      "imgFormat png\n",
      "toDict HiPS imgFormat png\n"
     ]
    }
   ],
   "source": [
    "esasky.setHiPS(\"Spitzer\", \"http://cdn.skies.esac.esa.int/Spitzer/IRAC134_RGB_bright/\", \"J2000\", 10, \"png\")"
   ]
  },
  {
   "cell_type": "code",
   "execution_count": 11,
   "metadata": {},
   "outputs": [],
   "source": [
    "esasky.setHiPSColorPalette('PLANCK')"
   ]
  },
  {
   "cell_type": "code",
   "execution_count": 4,
   "metadata": {},
   "outputs": [
    {
     "name": "stdout",
     "output_type": "stream",
     "text": [
      "costructor HiPS imgFormat png\n",
      "hipsURL http://skies.esac.esa.int/pla/LFI_SkyMap_030_1024_R3_00_full_smooth_HiPS/\n",
      "imgFormat png\n",
      "toDict HiPS imgFormat png\n"
     ]
    }
   ],
   "source": [
    "esasky.setHiPS(\"Planck LFI 030 GHz Pol smoothed\", \"http://skies.esac.esa.int/pla/LFI_SkyMap_030_1024_R3_00_full_smooth_HiPS/\", \"Galactic\", 3, \"png\")"
   ]
  },
  {
   "cell_type": "code",
   "execution_count": 5,
   "metadata": {},
   "outputs": [],
   "source": [
    "esasky.setHiPSColorPalette('PLANCK')"
   ]
  },
  {
   "cell_type": "code",
   "execution_count": null,
   "metadata": {},
   "outputs": [],
   "source": []
  }
 ],
 "metadata": {
  "kernelspec": {
   "display_name": "Python 3",
   "language": "python",
   "name": "python3"
  },
  "language_info": {
   "codemirror_mode": {
    "name": "ipython",
    "version": 3
   },
   "file_extension": ".py",
   "mimetype": "text/x-python",
   "name": "python",
   "nbconvert_exporter": "python",
   "pygments_lexer": "ipython3",
   "version": "3.6.5"
  }
 },
 "nbformat": 4,
 "nbformat_minor": 2
}
