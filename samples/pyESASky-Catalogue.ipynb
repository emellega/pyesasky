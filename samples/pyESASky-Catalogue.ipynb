{
 "cells": [
  {
   "cell_type": "code",
   "execution_count": 1,
   "metadata": {},
   "outputs": [],
   "source": [
    "from pyesasky.pyesasky import ESASkyWidget\n",
    "from pyesasky.pyesasky import Catalogue\n",
    "from pyesasky.pyesasky import CatalogueDescriptor\n",
    "from pyesasky.pyesasky import MetadataDescriptor\n",
    "from pyesasky.pyesasky import MetadataType"
   ]
  },
  {
   "cell_type": "code",
   "execution_count": 2,
   "metadata": {},
   "outputs": [],
   "source": [
    "# instantiating pyESASky instance\n",
    "esasky = ESASkyWidget()"
   ]
  },
  {
   "cell_type": "code",
   "execution_count": 3,
   "metadata": {
    "scrolled": false
   },
   "outputs": [
    {
     "data": {
      "application/vnd.jupyter.widget-view+json": {
       "model_id": "b5713ab4a65c4c3ebc8a15eeca004ad9",
       "version_major": 2,
       "version_minor": 0
      },
      "text/plain": [
       "ESASkyWidget(layout=Layout(align_self='stretch', height='400px'))"
      ]
     },
     "metadata": {},
     "output_type": "display_data"
    }
   ],
   "source": [
    "# loading pyESASky instance\n",
    "esasky"
   ]
  },
  {
   "cell_type": "code",
   "execution_count": 4,
   "metadata": {},
   "outputs": [
    {
     "name": "stdout",
     "output_type": "stream",
     "text": [
      "coordinates frame equatorial not recognized. Possible options are J2000 and Galactic. Applied J2000 by default.\n"
     ]
    }
   ],
   "source": [
    "#####################################################\n",
    "# EX.1 creating a user defined catalogue on the fly #\n",
    "#####################################################\n",
    "catalogue = Catalogue('test catalogue name', 'equatorial', '#ee2345', 10)"
   ]
  },
  {
   "cell_type": "code",
   "execution_count": 5,
   "metadata": {},
   "outputs": [],
   "source": [
    "# adding sources to the catalogue\n",
    "catalogue.addSource('source name A', '105.69239256', '-8.45235969', None, [{\"name\":\"Flux 1\", \"value\":\"10.5\", \"type\":\"STRING\" },{\"name\":\"Flux 2\", \"value\":\"1.7\", \"type\":\"STRING\" }])\n",
    "catalogue.addSource('source name B', '106.70779763', '-8.31350997', None, [{\"name\":\"Flux 1\", \"value\":\"11.5\", \"type\":\"STRING\" },{\"name\":\"Flux 2\", \"value\":\"2.7\", \"type\":\"STRING\" }])\n",
    "catalogue.addSource('source name c', '107.70779763', '-8.31350997', None, [{\"name\":\"Flux 1\", \"value\":\"12.5\", \"type\":\"STRING\" },{\"name\":\"Flux 2\", \"value\":\"0.7\", \"type\":\"STRING\" }])"
   ]
  },
  {
   "cell_type": "code",
   "execution_count": 6,
   "metadata": {},
   "outputs": [],
   "source": [
    "# overlay catalogue in pyESASky\n",
    "esasky.overlayCatalogueWithDetails(catalogue)"
   ]
  },
  {
   "cell_type": "code",
   "execution_count": 7,
   "metadata": {},
   "outputs": [],
   "source": [
    "############################################\n",
    "# EX.2 importing a catalogue from CSV file #\n",
    "############################################\n",
    "# CatalogueDescriptor('<catName>', '<HTMLcolor>', <lineWidth>, '<idColumn>', '<nameColumn>', '<RAColumn>', '<DecColumn>', Metadata)\n",
    "# where:\n",
    "# - <catName> : name of the catalogue that will be used in pyESASky as label\n",
    "# - <HTMLcolor> : HTML color. It could be a \"Color name\", \"Hex color code\" or \"RGB color code\"\n",
    "# - <lineWidth> : width used to draw sources. From 1 to 10\n",
    "# - <idColumn> : name of the column containing a unique identifier for sources if any. None if not applicable\n",
    "# - <nameColumn> : name of the column with the name of the source\n",
    "# - <RAColumn> : name of the RA column in degrees\n",
    "# - <DecColumn> : name of the Dec column in degrees\n",
    "#  - Metadata : list of pyesasky.pyesasky.MetadataDescriptor in case it has been defined. [] otherwise.\n",
    "catalogueDesc =CatalogueDescriptor('my test', 'red', 5, 'id', 'name', 'ra', 'dec', [])"
   ]
  },
  {
   "cell_type": "code",
   "execution_count": 8,
   "metadata": {},
   "outputs": [
    {
     "name": "stdout",
     "output_type": "stream",
     "text": [
      "Column identified: #id, name, ra, dec, flux1, flux2\n",
      "{name} column identified: name\n",
      "{centerRaDeg} column identified: ra\n",
      "{currDecDeg} column identified: dec\n",
      "Processed 4 lines.\n"
     ]
    }
   ],
   "source": [
    "# parse, import and overlay a catalogue from a CSV\n",
    "esasky.overlayCatalogueFromCSV('/home/fgiordano/testcat', ',', catalogueDesc)"
   ]
  },
  {
   "cell_type": "code",
   "execution_count": 9,
   "metadata": {},
   "outputs": [
    {
     "name": "stdout",
     "output_type": "stream",
     "text": [
      "Created TAP+ (v1.0.1) - Connection:\n",
      "\tHost: gea.esac.esa.int\n",
      "\tUse HTTPS: False\n",
      "\tPort: 80\n",
      "\tSSL Port: 443\n"
     ]
    }
   ],
   "source": [
    "###################################################################\n",
    "# EX.3 importing a catalogue from AstropyTable using Gaia archive #\n",
    "###################################################################\n",
    "from astroquery.gaia import Gaia"
   ]
  },
  {
   "cell_type": "code",
   "execution_count": 10,
   "metadata": {},
   "outputs": [
    {
     "name": "stdout",
     "output_type": "stream",
     "text": [
      "Launched query: 'select top 10 ra, dec, source_id, designation, ref_epoch,ra_dec_corr,astrometric_n_obs_al,matched_observations,duplicated_source,phot_variable_flag  from gaiadr2.gaia_source order by source_id'\n",
      "200 200\n",
      "[('Date', 'Mon, 06 May 2019 14:42:46 GMT'), ('Server', 'Apache/2.4.6 (Red Hat Enterprise Linux) OpenSSL/1.0.2k-fips PHP/5.4.16 mod_jk/1.2.43'), ('Cache-Control', 'no-cache, no-store, max-age=0, must-revalidate'), ('Pragma', 'no-cache'), ('Expires', '0'), ('X-XSS-Protection', '1; mode=block'), ('X-Frame-Options', 'SAMEORIGIN'), ('X-Content-Type-Options', 'nosniff'), ('Set-Cookie', 'JSESSIONID=3EE0D1A96672B71BA50EC5143A4EB1D3; Path=/tap-server; HttpOnly'), ('Content-Encoding', 'gzip'), ('Content-Disposition', 'attachment;filename=\"1557153766796O-result.vot\"'), ('Transfer-Encoding', 'chunked'), ('Content-Type', 'application/x-votable+xml')]\n",
      "Retrieving sync. results...\n",
      "Query finished.\n"
     ]
    },
    {
     "name": "stderr",
     "output_type": "stream",
     "text": [
      "WARNING: W35: None:5:0: W35: 'value' attribute required for INFO elements [astropy.io.votable.tree]\n",
      "WARNING: W35: None:6:0: W35: 'value' attribute required for INFO elements [astropy.io.votable.tree]\n",
      "WARNING: W35: None:7:0: W35: 'value' attribute required for INFO elements [astropy.io.votable.tree]\n",
      "WARNING: W35: None:8:0: W35: 'value' attribute required for INFO elements [astropy.io.votable.tree]\n",
      "WARNING: W35: None:10:0: W35: 'value' attribute required for INFO elements [astropy.io.votable.tree]\n",
      "WARNING: W27: None:11:0: W27: COOSYS deprecated in VOTable 1.2 [astropy.io.votable.tree]\n"
     ]
    }
   ],
   "source": [
    "job = Gaia.launch_job(\"select top 10\\\n",
    " ra, dec, source_id, designation, ref_epoch,ra_dec_corr,astrometric_n_obs_al,matched_observations,duplicated_source,phot_variable_flag \\\n",
    " from gaiadr2.gaia_source order by source_id\", verbose=True)\n"
   ]
  },
  {
   "cell_type": "code",
   "execution_count": 11,
   "metadata": {},
   "outputs": [
    {
     "name": "stdout",
     "output_type": "stream",
     "text": [
      "        ra                 dec          ... duplicated_source phot_variable_flag\n",
      "       deg                 deg          ...                                     \n",
      "------------------ -------------------- ... ----------------- ------------------\n",
      "44.996153684159594 0.005615806210679649 ...             False      NOT_AVAILABLE\n",
      "45.004316164207644 0.021045032689712983 ...             False      NOT_AVAILABLE\n",
      "  45.0049742449841 0.019877000365797714 ...             False      NOT_AVAILABLE\n",
      " 44.99503703932583  0.03815183599451371 ...             False      NOT_AVAILABLE\n",
      " 44.96389532530429 0.043595184822725674 ...             False      NOT_AVAILABLE\n",
      " 44.99832632511778   0.0663337657163784 ...             False      NOT_AVAILABLE\n",
      " 45.04828219158795   0.0482562232180315 ...             False      NOT_AVAILABLE\n",
      " 45.02361786160386  0.06842024221607944 ...             False      NOT_AVAILABLE\n",
      " 45.02672638277647  0.08169949145380392 ...             False      NOT_AVAILABLE\n",
      " 45.03908018542775  0.08685440090429679 ...             False      NOT_AVAILABLE\n"
     ]
    }
   ],
   "source": [
    "myGaiaData = job.get_results()\n",
    "print(myGaiaData)"
   ]
  },
  {
   "cell_type": "code",
   "execution_count": 12,
   "metadata": {},
   "outputs": [
    {
     "data": {
      "text/html": [
       "<i>Table masked=True length=10</i>\n",
       "<table id=\"table139664523624064\" class=\"table-striped table-bordered table-condensed\">\n",
       "<thead><tr><th>ra</th><th>dec</th><th>source_id</th><th>designation</th><th>ref_epoch</th><th>ra_dec_corr</th><th>astrometric_n_obs_al</th><th>matched_observations</th><th>duplicated_source</th><th>phot_variable_flag</th></tr></thead>\n",
       "<thead><tr><th>deg</th><th>deg</th><th></th><th></th><th>yr</th><th></th><th></th><th></th><th></th><th></th></tr></thead>\n",
       "<thead><tr><th>float64</th><th>float64</th><th>int64</th><th>object</th><th>float64</th><th>float32</th><th>int32</th><th>int16</th><th>bool</th><th>object</th></tr></thead>\n",
       "<tr><td>44.996153684159594</td><td>0.005615806210679649</td><td>4295806720</td><td>Gaia DR2 4295806720</td><td>2015.5</td><td>0.022670548</td><td>107</td><td>13</td><td>False</td><td>NOT_AVAILABLE</td></tr>\n",
       "<tr><td>45.004316164207644</td><td>0.021045032689712983</td><td>34361129088</td><td>Gaia DR2 34361129088</td><td>2015.5</td><td>0.06490505</td><td>97</td><td>11</td><td>False</td><td>NOT_AVAILABLE</td></tr>\n",
       "<tr><td>45.0049742449841</td><td>0.019877000365797714</td><td>38655544960</td><td>Gaia DR2 38655544960</td><td>2015.5</td><td>0.11690165</td><td>104</td><td>12</td><td>False</td><td>NOT_AVAILABLE</td></tr>\n",
       "<tr><td>44.99503703932583</td><td>0.03815183599451371</td><td>309238066432</td><td>Gaia DR2 309238066432</td><td>2015.5</td><td>0.042778816</td><td>114</td><td>13</td><td>False</td><td>NOT_AVAILABLE</td></tr>\n",
       "<tr><td>44.96389532530429</td><td>0.043595184822725674</td><td>343597448960</td><td>Gaia DR2 343597448960</td><td>2015.5</td><td>0.095711425</td><td>114</td><td>13</td><td>False</td><td>NOT_AVAILABLE</td></tr>\n",
       "<tr><td>44.99832632511778</td><td>0.0663337657163784</td><td>515396233856</td><td>Gaia DR2 515396233856</td><td>2015.5</td><td>0.56088775</td><td>105</td><td>12</td><td>False</td><td>NOT_AVAILABLE</td></tr>\n",
       "<tr><td>45.04828219158795</td><td>0.0482562232180315</td><td>549755818112</td><td>Gaia DR2 549755818112</td><td>2015.5</td><td>-0.0028029205</td><td>114</td><td>13</td><td>False</td><td>NOT_AVAILABLE</td></tr>\n",
       "<tr><td>45.02361786160386</td><td>0.06842024221607944</td><td>828929527040</td><td>Gaia DR2 828929527040</td><td>2015.5</td><td>0.11152559</td><td>104</td><td>12</td><td>False</td><td>NOT_AVAILABLE</td></tr>\n",
       "<tr><td>45.02672638277647</td><td>0.08169949145380392</td><td>927713095040</td><td>Gaia DR2 927713095040</td><td>2015.5</td><td>0.6039746</td><td>98</td><td>11</td><td>False</td><td>NOT_AVAILABLE</td></tr>\n",
       "<tr><td>45.03908018542775</td><td>0.08685440090429679</td><td>966367933184</td><td>Gaia DR2 966367933184</td><td>2015.5</td><td>0.06599529</td><td>111</td><td>13</td><td>False</td><td>NOT_AVAILABLE</td></tr>\n",
       "</table>"
      ],
      "text/plain": [
       "<Table masked=True length=10>\n",
       "        ra                 dec          ... duplicated_source phot_variable_flag\n",
       "       deg                 deg          ...                                     \n",
       "     float64             float64        ...        bool             object      \n",
       "------------------ -------------------- ... ----------------- ------------------\n",
       "44.996153684159594 0.005615806210679649 ...             False      NOT_AVAILABLE\n",
       "45.004316164207644 0.021045032689712983 ...             False      NOT_AVAILABLE\n",
       "  45.0049742449841 0.019877000365797714 ...             False      NOT_AVAILABLE\n",
       " 44.99503703932583  0.03815183599451371 ...             False      NOT_AVAILABLE\n",
       " 44.96389532530429 0.043595184822725674 ...             False      NOT_AVAILABLE\n",
       " 44.99832632511778   0.0663337657163784 ...             False      NOT_AVAILABLE\n",
       " 45.04828219158795   0.0482562232180315 ...             False      NOT_AVAILABLE\n",
       " 45.02361786160386  0.06842024221607944 ...             False      NOT_AVAILABLE\n",
       " 45.02672638277647  0.08169949145380392 ...             False      NOT_AVAILABLE\n",
       " 45.03908018542775  0.08685440090429679 ...             False      NOT_AVAILABLE"
      ]
     },
     "execution_count": 12,
     "metadata": {},
     "output_type": "execute_result"
    }
   ],
   "source": [
    "job.get_data()"
   ]
  },
  {
   "cell_type": "code",
   "execution_count": 13,
   "metadata": {
    "scrolled": false
   },
   "outputs": [
    {
     "name": "stdout",
     "output_type": "stream",
     "text": [
      "-----------\n",
      "ra\n",
      "pos.eq.ra;meta.main\n",
      "-----------\n",
      "dec\n",
      "pos.eq.dec;meta.main\n",
      "-----------\n",
      "source_id\n",
      "meta.id\n",
      "-----------\n",
      "designation\n",
      "meta.id;meta.main\n",
      "-----------\n",
      "ref_epoch\n",
      "meta.ref;time.epoch\n",
      "-----------\n",
      "ra_dec_corr\n",
      "stat.correlation;pos.eq.ra;pos.eq.dec\n",
      "-----------\n",
      "astrometric_n_obs_al\n",
      "meta.number\n",
      "-----------\n",
      "matched_observations\n",
      "meta.number\n",
      "-----------\n",
      "duplicated_source\n",
      "meta.code.status\n",
      "-----------\n",
      "phot_variable_flag\n",
      "meta.code;src.var\n"
     ]
    }
   ],
   "source": [
    "# overlayCatalogueFromAstropyTable('<catName>', '<cooFrame>', <HTMLcolor>, '<(astropy.table)>', '<RAColumn>', '<DecColumn>', '<nameColumn>')\n",
    "# where:\n",
    "# - <catName> : name of the catalogue that will be used in pyESASky as label\n",
    "# - <HTMLcolor> : HTML color. It could be a \"Color name\", \"Hex color code\" or \"RGB color code\"\n",
    "# - <lineWidth> : width used to draw sources. From 1 to 10\n",
    "# - <idColumn> : name of the column containing a unique identifier for sources if any. None if not applicable\n",
    "# - <nameColumn> : name of the column with the name of the source\n",
    "# - <RAColumn> : name of the RA column in degrees\n",
    "# - <DecColumn> : name of the Dec column in degrees\n",
    "\n",
    "esasky.overlayCatalogueFromAstropyTable('Gaia DR2', 'J2000', '#a343ff', 5, myGaiaData, '','','')"
   ]
  },
  {
   "cell_type": "code",
   "execution_count": null,
   "metadata": {},
   "outputs": [],
   "source": []
  }
 ],
 "metadata": {
  "kernelspec": {
   "display_name": "Python 3",
   "language": "python",
   "name": "python3"
  },
  "language_info": {
   "codemirror_mode": {
    "name": "ipython",
    "version": 3
   },
   "file_extension": ".py",
   "mimetype": "text/x-python",
   "name": "python",
   "nbconvert_exporter": "python",
   "pygments_lexer": "ipython3",
   "version": "3.6.5"
  }
 },
 "nbformat": 4,
 "nbformat_minor": 2
}
