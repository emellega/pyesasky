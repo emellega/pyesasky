{
 "cells": [
  {
   "cell_type": "code",
   "execution_count": 1,
   "metadata": {},
   "outputs": [],
   "source": [
    "from pyesasky.pyesasky import ESASkyWidget\n",
    "from pyesasky.pyesasky import FootprintSet\n",
    "from pyesasky.pyesasky import FootprintSetDescriptor\n",
    "from pyesasky.pyesasky import MetadataDescriptor\n",
    "from pyesasky.pyesasky import MetadataType"
   ]
  },
  {
   "cell_type": "code",
   "execution_count": 2,
   "metadata": {},
   "outputs": [],
   "source": [
    "esasky = ESASkyWidget()"
   ]
  },
  {
   "cell_type": "code",
   "execution_count": 3,
   "metadata": {},
   "outputs": [
    {
     "data": {
      "application/vnd.jupyter.widget-view+json": {
       "model_id": "d86fac05c38940b8a67ec01b33358a93",
       "version_major": 2,
       "version_minor": 0
      },
      "text/plain": [
       "ESASkyWidget(layout=Layout(align_self='stretch', height='400px'))"
      ]
     },
     "metadata": {},
     "output_type": "display_data"
    }
   ],
   "source": [
    "esasky"
   ]
  },
  {
   "cell_type": "code",
   "execution_count": 8,
   "metadata": {},
   "outputs": [],
   "source": [
    "esasky.goToTargetName('RCW120')"
   ]
  },
  {
   "cell_type": "code",
   "execution_count": null,
   "metadata": {},
   "outputs": [],
   "source": [
    "esasky.setFoV(2.3)"
   ]
  },
  {
   "cell_type": "code",
   "execution_count": 9,
   "metadata": {},
   "outputs": [
    {
     "name": "stdout",
     "output_type": "stream",
     "text": [
      "hipsURL http://cdn.skies.esac.esa.int/Spitzer/IRAC134_RGB_bright/\n",
      "imgFormat png\n"
     ]
    }
   ],
   "source": [
    "esasky.setHiPS(\"Spitzer\", \"http://cdn.skies.esac.esa.int/Spitzer/IRAC134_RGB_bright/\")"
   ]
  },
  {
   "cell_type": "code",
   "execution_count": 6,
   "metadata": {},
   "outputs": [],
   "source": [
    "footprintDesc = FootprintSetDescriptor('my test', 'red', 5, 'id', 'id', 'stcs', 'ra', 'dec', [])"
   ]
  },
  {
   "cell_type": "code",
   "execution_count": 7,
   "metadata": {},
   "outputs": [
    {
     "name": "stdout",
     "output_type": "stream",
     "text": [
      "Columns identified: id, ra, dec, wid, hei, stcs, score\n",
      "{id} mapped to id\n",
      "{name} mapped to id\n",
      "{centerRaDeg} mapped to ra\n",
      "{centerDecDeg} mapped to dec\n",
      "{stcs} mapped to stcs\n",
      "Processed 3575 lines.\n"
     ]
    }
   ],
   "source": [
    "esasky.overlayFootprintsFromCSV('/lhome/fgiordano/jupyter-workspace/pyesasky-0_1/newform_1200x1200.csv', ',', footprintDesc)"
   ]
  },
  {
   "cell_type": "code",
   "execution_count": 4,
   "metadata": {},
   "outputs": [],
   "source": [
    "footprintDesc2 = FootprintSetDescriptor('my test 2', 'green', 5, 'id', 'id', 'stcs', 'ra', 'dec', [])"
   ]
  },
  {
   "cell_type": "code",
   "execution_count": 10,
   "metadata": {},
   "outputs": [],
   "source": [
    "esasky.goToTargetName('RCW120')"
   ]
  },
  {
   "cell_type": "code",
   "execution_count": 11,
   "metadata": {},
   "outputs": [],
   "source": []
  },
  {
   "cell_type": "code",
   "execution_count": 12,
   "metadata": {},
   "outputs": [
    {
     "name": "stdout",
     "output_type": "stream",
     "text": [
      "hipsURL http://cdn.skies.esac.esa.int/Herschel/PACS-color/\n",
      "imgFormat jpeg\n"
     ]
    }
   ],
   "source": [
    "esasky.setHiPS(\"Herschel\", \"http://cdn.skies.esac.esa.int/Herschel/PACS-color/\")"
   ]
  },
  {
   "cell_type": "code",
   "execution_count": 5,
   "metadata": {},
   "outputs": [
    {
     "name": "stdout",
     "output_type": "stream",
     "text": [
      "Columns identified: id, ra, dec, stcs\n",
      "{id} mapped to id\n",
      "{name} mapped to id\n",
      "{centerRaDeg} mapped to ra\n",
      "{centerDecDeg} mapped to dec\n",
      "{stcs} mapped to stcs\n",
      "Processed 10 lines.\n"
     ]
    }
   ],
   "source": [
    "esasky.overlayFootprintsFromCSV('/home/fgiordano/jupyter-workspace/pyesasky-0_1/newform_MWP_head.csv', ',', footprintDesc2)"
   ]
  },
  {
   "cell_type": "code",
   "execution_count": null,
   "metadata": {},
   "outputs": [],
   "source": []
  }
 ],
 "metadata": {
  "kernelspec": {
   "display_name": "Python 3",
   "language": "python",
   "name": "python3"
  },
  "language_info": {
   "codemirror_mode": {
    "name": "ipython",
    "version": 3
   },
   "file_extension": ".py",
   "mimetype": "text/x-python",
   "name": "python",
   "nbconvert_exporter": "python",
   "pygments_lexer": "ipython3",
   "version": "3.6.5"
  }
 },
 "nbformat": 4,
 "nbformat_minor": 2
}
